{
 "cells": [
  {
   "cell_type": "markdown",
   "metadata": {
    "heading_collapsed": true
   },
   "source": [
    "## Importeren packages"
   ]
  },
  {
   "cell_type": "code",
   "execution_count": 1,
   "metadata": {
    "hidden": true
   },
   "outputs": [
    {
     "name": "stderr",
     "output_type": "stream",
     "text": [
      "C:\\ProgramData\\Miniconda3\\lib\\site-packages\\matplotlib\\style\\core.py:201: UserWarning: In C:\\ProgramData\\Miniconda3\\lib\\site-packages\\matplotlib\\mpl-data\\stylelib\\beaver_color_theme.mplstyle: Bad val \"'\" on line #1\n",
      "\t\"axes.prop_cycle : '#d8d8d8', '#969696', '#cc0000', '#33b2b2'\"\n",
      "\tin file \"C:\\ProgramData\\Miniconda3\\lib\\site-packages\\matplotlib\\mpl-data\\stylelib\\beaver_color_theme.mplstyle\"\n",
      "\tKey axes.prop_cycle: ''' is not a valid cycler construction: EOL while scanning string literal (<string>, line 1)\n",
      "  warnings.warn(message)\n"
     ]
    }
   ],
   "source": [
    "import numpy as np\n",
    "\n",
    "import matplotlib.pyplot as plt\n",
    "import matplotlib.animation as animation\n",
    "from mpl_toolkits.mplot3d import Axes3D\n",
    "# import seaborn as sns\n",
    "import matplotlib.colors as colors\n",
    "import os\n",
    "\n",
    "# import scipy.io as io\n",
    "# import scipy.interpolate as inter\n",
    "# import scipy.optimize as opt\n",
    "import sympy as sp\n",
    "\n",
    "import math\n",
    "import pandas as pd\n",
    "\n",
    "#plt.style.use(['gruvboxd_style_theme', 'gruvboxd_color_theme'])\n",
    "\n",
    "%matplotlib notebook"
   ]
  },
  {
   "cell_type": "code",
   "execution_count": null,
   "metadata": {
    "hidden": true
   },
   "outputs": [],
   "source": []
  },
  {
   "cell_type": "markdown",
   "metadata": {
    "heading_collapsed": true
   },
   "source": [
    "## Importeren data"
   ]
  },
  {
   "cell_type": "code",
   "execution_count": 2,
   "metadata": {
    "hidden": true
   },
   "outputs": [],
   "source": [
    "data_4 = pd.read_csv('opdracht 4.txt', delimiter = '\\t')"
   ]
  },
  {
   "cell_type": "code",
   "execution_count": 3,
   "metadata": {
    "hidden": true
   },
   "outputs": [],
   "source": [
    "data_3 = pd.read_csv('opdracht 3.txt', delimiter = '\\t')"
   ]
  },
  {
   "cell_type": "markdown",
   "metadata": {
    "heading_collapsed": true
   },
   "source": [
    "## verwerken data opdracht 3"
   ]
  },
  {
   "cell_type": "code",
   "execution_count": 4,
   "metadata": {
    "hidden": true
   },
   "outputs": [],
   "source": [
    "# waardes gebruikt in het experiment\n",
    "L = 2.20e-3\n",
    "C = 1.00e-5\n",
    "R = 100"
   ]
  },
  {
   "cell_type": "markdown",
   "metadata": {
    "hidden": true
   },
   "source": [
    "De theoretisch verwachte waarde van de resonantiefrequentie:"
   ]
  },
  {
   "cell_type": "code",
   "execution_count": 5,
   "metadata": {
    "hidden": true
   },
   "outputs": [
    {
     "data": {
      "text/plain": [
       "'resonantiefrequentie: 1073.02'"
      ]
     },
     "metadata": {},
     "output_type": "display_data"
    }
   ],
   "source": [
    "f0 = 1/(np.sqrt(L*C)*2*np.pi)\n",
    "display(\"resonantiefrequentie: %.2f\" %f0)"
   ]
  },
  {
   "cell_type": "markdown",
   "metadata": {
    "hidden": true
   },
   "source": [
    "De gemiddeld gemeten waarde en de fout hierop"
   ]
  },
  {
   "cell_type": "code",
   "execution_count": 7,
   "metadata": {
    "hidden": true
   },
   "outputs": [
    {
     "data": {
      "text/plain": [
       "'gemeten resonantiefrequentie: 1033 +- 24'"
      ]
     },
     "metadata": {},
     "output_type": "display_data"
    }
   ],
   "source": [
    "# gemiddelde waarde resonantiefrequentie\n",
    "f_avg = data_3['resonantiefrequentie'].mean()\n",
    "\n",
    "# berekenen standaardafwijking op metingen\n",
    "metingen = data_3['resonantiefrequentie'].values\n",
    "\n",
    "# som van de kwadraten van de afwijkingen van het gemiddelde\n",
    "squares_sum = np.dot(metingen-f_avg, metingen-f_avg)\n",
    "stdv = np.sqrt(squares_sum/(len(metingen-1)))\n",
    "\n",
    "display('gemeten resonantiefrequentie: %.0f +- %.0f' %(f_avg, stdv))"
   ]
  },
  {
   "cell_type": "markdown",
   "metadata": {
    "heading_collapsed": true
   },
   "source": [
    "## Verwerken data opdracht 4"
   ]
  },
  {
   "cell_type": "code",
   "execution_count": 23,
   "metadata": {
    "hidden": true
   },
   "outputs": [],
   "source": [
    "# functie om phi te bepalen uit omega, L, R en C. (30.29a in Giancoli)\n",
    "def phi(omega, l=1, r=1, c=1):\n",
    "    return np.arctan((omega*l-1/(omega*c))/r)\n",
    "\n",
    "# de fout op phi, voor de gegeven waarden l, r en c rekenen we een 5% fout\n",
    "def delta_phi(omega, l=1, r=1, c=1, domega=2*np.pi*50, dl=1.1e-4, dr=5, dc=5e-7):\n",
    "    d_2 = 1/(1+np.tan(phi(omega, l, r, c))**2)*((omega*dl/r)**2 + (dc/(omega*r*c**2))**2 + (l*domega/r+domega/omega**2*r*c)**2 + ((omega*l-1/(omega*c))*dr/r**2)**2)\n",
    "    return np.sqrt(d_2)"
   ]
  },
  {
   "cell_type": "code",
   "execution_count": 9,
   "metadata": {
    "hidden": true
   },
   "outputs": [],
   "source": [
    "# waardes gebruikt in het experiment\n",
    "L = 2.20e-3\n",
    "C = 1.00e-5\n",
    "R = 100"
   ]
  },
  {
   "cell_type": "markdown",
   "metadata": {
    "hidden": true
   },
   "source": [
    "*plotten data met fouten op de metingen*"
   ]
  },
  {
   "cell_type": "code",
   "execution_count": 40,
   "metadata": {
    "hidden": true
   },
   "outputs": [
    {
     "data": {
      "image/png": "[encoded data removed]",
      "text/plain": [
       "<Figure size 576x432 with 1 Axes>"
      ]
     },
     "metadata": {},
     "output_type": "display_data"
    }
   ],
   "source": [
    "# berekenen theoretische resonantiefrequentie\n",
    "f0 = 1/(np.sqrt(L*C)*2*np.pi)\n",
    "\n",
    "# theoretische curve tussen f0/4 en f0*2\n",
    "freq = np.linspace(f0/10, 2*f0, 2000)\n",
    "phi_theoretisch = phi(2*np.pi*freq, L, R, C)\n",
    "\n",
    "# plotten theoretische curve en metingen\n",
    "fig, ax = plt.subplots(1,1, figsize=(8, 6))\n",
    "\n",
    "ax.plot((freq), phi_theoretisch, linewidth=3)\n",
    "#ax.plot((data_4['frequentie']), data_4['phi'], 'o', markersize=8)\n",
    "ax.errorbar(data_4['frequentie'], data_4['phi'], yerr=delta_phi(2*np.pi*data_4['frequentie'], L, R, C), xerr=50*np.ones_like(data_4['phi']), fmt='o', markersize=5, color='k')\n",
    "\n",
    "# lay-out en labels\n",
    "ax.set_xlabel('frequentie (Hz)', size=12)\n",
    "ax.set_ylabel('faseverschil stroom-spanning (rad)', size=12)\n",
    "#plt.title('Faseverschil stroom-spanning in functie van frequentie')\n",
    "\n",
    "plt.show()\n",
    "\n",
    "#fig.savefig('theorie_data.pdf')\n",
    "#fig.savefig('theorie_data.png')"
   ]
  },
  {
   "cell_type": "markdown",
   "metadata": {
    "hidden": true
   },
   "source": [
    "*Plotten data met fouten op data en theoretische curve*"
   ]
  },
  {
   "cell_type": "code",
   "execution_count": 41,
   "metadata": {
    "hidden": true
   },
   "outputs": [
    {
     "data": {
      "image/png": "[encoded data removed]",
      "text/plain": [
       "<Figure size 576x432 with 1 Axes>"
      ]
     },
     "metadata": {},
     "output_type": "display_data"
    }
   ],
   "source": [
    "# berekenen theoretische resonantiefrequentie\n",
    "f0 = 1/(np.sqrt(L*C)*2*np.pi)\n",
    "\n",
    "# theoretische curve tussen f0/4 en f0*2\n",
    "freq = np.linspace(f0/10, 2*f0, 2000)\n",
    "phi_theoretisch = phi(2*np.pi*freq, L, R, C)\n",
    "fout_theoretisch = delta_phi(2*np.pi*freq, L, R, C)\n",
    "\n",
    "# plotten theoretische curve en metingen\n",
    "fig, ax = plt.subplots(1,1, figsize=(8, 6))\n",
    "\n",
    "ax.plot((freq), phi_theoretisch, linewidth=2)\n",
    "#ax.plot((data_4['frequentie']), data_4['phi'], 'o', markersize=8)\n",
    "ax.fill_between(freq, phi_theoretisch - fout_theoretisch, phi_theoretisch + fout_theoretisch, alpha=0.5)\n",
    "ax.errorbar(data_4['frequentie'], data_4['phi'], yerr=delta_phi(2*np.pi*data_4['frequentie'], L, R, C), xerr=50*np.ones_like(data_4['phi']), fmt='o', markersize=5, color='k')\n",
    "\n",
    "# lay-out en labels\n",
    "ax.set_xlabel('frequentie (Hz)', size=12)\n",
    "ax.set_ylabel('faseverschil stroom-spanning (rad)', size=12)\n",
    "#plt.title('Faseverschil stroom-spanning in functie van frequentie')\n",
    "\n",
    "plt.show()\n",
    "\n",
    "#fig.savefig('theorie_data_fill.pdf')\n",
    "#fig.savefig('theorie_data_fill.png')"
   ]
  },
  {
   "cell_type": "markdown",
   "metadata": {
    "heading_collapsed": true
   },
   "source": [
    "## Tests"
   ]
  },
  {
   "cell_type": "code",
   "execution_count": 11,
   "metadata": {
    "hidden": true
   },
   "outputs": [
    {
     "data": {
      "image/png": "[encoded data removed]",
      "text/plain": [
       "<Figure size 432x288 with 1 Axes>"
      ]
     },
     "metadata": {},
     "output_type": "display_data"
    }
   ],
   "source": [
    "# berekenen theoretische resonantiefrequentie\n",
    "f0 = 1/(np.sqrt(L*C)*2*np.pi)\n",
    "\n",
    "# theoretische curve tussen f0/4 en f0*4\n",
    "freq = np.linspace(f0/6, 4*f0, 2000)\n",
    "phi_theoretisch = phi(2*np.pi*freq, L, R, C)\n",
    "\n",
    "# plotten theoretische curve en metingen\n",
    "fig, ax = plt.subplots(1,1)\n",
    "\n",
    "ax.plot(np.log(freq), phi_theoretisch)\n",
    "ax.plot(np.log(data_4['frequentie']), data_4['phi'], 'o')\n",
    "\n",
    "plt.show()\n",
    "\n",
    "fig.savefig('data_theoretisch_logaritmisch.png')"
   ]
  },
  {
   "cell_type": "code",
   "execution_count": null,
   "metadata": {
    "hidden": true
   },
   "outputs": [],
   "source": [
    "# bereik om een idee te krijgen van de vorm van de curve\n",
    "omega1 = np.linspace(0, 1, 1000)\n",
    "omega2 = np.linspace(1, 4, 1000)\n",
    "phi1 = phi(omega1, 1, 1, 1)\n",
    "phi2 = phi(omega2, 1, 1, 1)\n",
    "\n",
    "fig, ax = plt.subplots(1, 1)\n",
    "\n",
    "ax.plot(omega1, phi1)\n",
    "ax.plot(omega2, phi2)\n",
    "\n",
    "plt.show()"
   ]
  },
  {
   "cell_type": "code",
   "execution_count": null,
   "metadata": {
    "hidden": true
   },
   "outputs": [],
   "source": [
    "# bereik om een idee te krijgen van de vorm van de curve\n",
    "T1 = np.linspace(0.1, 1, 1000)\n",
    "T2 = np.linspace(1, 4, 1000)\n",
    "phi1 = phi(1/T1, 1, 1, 1)\n",
    "phi2 = phi(1/T2, 1, 1, 1)\n",
    "\n",
    "fig, ax = plt.subplots(1, 1)\n",
    "\n",
    "ax.plot(T1, phi1)\n",
    "ax.plot(T2, phi2)\n",
    "\n",
    "plt.show()"
   ]
  },
  {
   "cell_type": "code",
   "execution_count": null,
   "metadata": {
    "hidden": true
   },
   "outputs": [],
   "source": [
    "# bereik om een idee te krijgen van de vorm van de curve\n",
    "E1 = np.linspace(-1, 1, 1000)\n",
    "phi1 = phi(10**E1, 1, 1, 1)\n",
    "\n",
    "fig, ax = plt.subplots(1, 1)\n",
    "\n",
    "ax.plot(E1, phi1)\n",
    "\n",
    "plt.show()\n",
    "\n",
    "fig.savefig('Theoretische gestandariseerde plot opdracht 4.png')"
   ]
  },
  {
   "cell_type": "code",
   "execution_count": null,
   "metadata": {
    "hidden": true
   },
   "outputs": [],
   "source": [
    "phi(1/4)"
   ]
  },
  {
   "cell_type": "code",
   "execution_count": null,
   "metadata": {
    "hidden": true
   },
   "outputs": [],
   "source": []
  },
  {
   "cell_type": "code",
   "execution_count": null,
   "metadata": {
    "hidden": true
   },
   "outputs": [],
   "source": []
  },
  {
   "cell_type": "code",
   "execution_count": null,
   "metadata": {
    "hidden": true
   },
   "outputs": [],
   "source": []
  },
  {
   "cell_type": "code",
   "execution_count": null,
   "metadata": {
    "hidden": true
   },
   "outputs": [],
   "source": []
  },
  {
   "cell_type": "code",
   "execution_count": null,
   "metadata": {
    "hidden": true
   },
   "outputs": [],
   "source": []
  }
 ],
 "metadata": {
  "kernelspec": {
   "display_name": "Python 3",
   "language": "python",
   "name": "python3"
  },
  "language_info": {
   "codemirror_mode": {
    "name": "ipython",
    "version": 3
   },
   "file_extension": ".py",
   "mimetype": "text/x-python",
   "name": "python",
   "nbconvert_exporter": "python",
   "pygments_lexer": "ipython3",
   "version": "3.6.5"
  }
 },
 "nbformat": 4,
 "nbformat_minor": 2
}
