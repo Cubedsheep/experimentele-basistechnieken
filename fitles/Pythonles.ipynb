{
 "cells": [
  {
   "cell_type": "markdown",
   "metadata": {},
   "source": [
    "## Importeren variabelan"
   ]
  },
  {
   "cell_type": "markdown",
   "metadata": {},
   "source": [
    "Benodigde $\\textbf{Library}$ importeren"
   ]
  },
  {
   "cell_type": "code",
   "execution_count": 1,
   "metadata": {
    "collapsed": true
   },
   "outputs": [],
   "source": [
    "import numpy as np\n",
    "import scipy.stats as nst\n",
    "import scipy.optimize as opt"
   ]
  },
  {
   "cell_type": "markdown",
   "metadata": {},
   "source": [
    "## Variabelen declareren"
   ]
  },
  {
   "cell_type": "code",
   "execution_count": 2,
   "metadata": {},
   "outputs": [
    {
     "name": "stdout",
     "output_type": "stream",
     "text": [
      "4\n"
     ]
    },
    {
     "data": {
      "text/plain": [
       "7"
      ]
     },
     "execution_count": 2,
     "metadata": {},
     "output_type": "execute_result"
    }
   ],
   "source": [
    "a=3\n",
    "b=4\n",
    "\n",
    "print(b)\n",
    "\n",
    "a+b"
   ]
  },
  {
   "cell_type": "markdown",
   "metadata": {},
   "source": [
    "Vectoren en Matrices\n",
    "    (i.e. wat we uit de wiskunde kennen als 'vectoren en matrices' - in Python gebruiken we objecten van de klasse $\\textbf{array}$)"
   ]
  },
  {
   "cell_type": "code",
   "execution_count": 3,
   "metadata": {},
   "outputs": [
    {
     "name": "stdout",
     "output_type": "stream",
     "text": [
      "[ 1  2  3  4  5  6  7  8  9 10]\n",
      "[[1 2 3]\n",
      " [4 5 6]\n",
      " [7 8 9]]\n"
     ]
    }
   ],
   "source": [
    "A = np.array([1,2,3,4,5,6,7,8,9,10])\n",
    "print(A)\n",
    "\n",
    "R=np.array([[1,2,3],[4,5,6],[7,8,9]])\n",
    "print(R)"
   ]
  },
  {
   "cell_type": "markdown",
   "metadata": {},
   "source": [
    "Elementen selecteren uit een vector en subsets nemen \n",
    "(Indices beginnen bij 0 ! Python 'telt' de laatste index nooit mee!)"
   ]
  },
  {
   "cell_type": "code",
   "execution_count": 4,
   "metadata": {},
   "outputs": [
    {
     "name": "stdout",
     "output_type": "stream",
     "text": [
      "2\n",
      "[3 4 5]\n",
      "[ 3  4  5  6  7  8  9 10]\n",
      "[1 2 3 4]\n",
      "[[5 6]\n",
      " [8 9]]\n"
     ]
    }
   ],
   "source": [
    "print(A[1])\n",
    "\n",
    "B = A[2:5]\n",
    "print(B)\n",
    "\n",
    "C = A[2:]\n",
    "print(C)\n",
    "\n",
    "D = A[:4]\n",
    "print(D)\n",
    "\n",
    "\n",
    "print(R[1:3, 1:3])"
   ]
  },
  {
   "cell_type": "markdown",
   "metadata": {},
   "source": [
    "## DIY: Array's"
   ]
  },
  {
   "cell_type": "markdown",
   "metadata": {},
   "source": [
    "Eenvoudige manier om array's te genereren in NumPy tussen twee waarden zijn:\n",
    "- 'arange' :  Hierbij definieer je de stapgrootte\n",
    "- 'linspace': Hierbij definieer je het Aantal elementen\n",
    "\n",
    "Via help(commando) kun je informatie opzoeken, ofwel doe je dit online (bijvoorbeeld door te zoeken op 'numpy.arange'. Gebruikt deze om:\n",
    "\n",
    "- Een array te maken tussen 0 en 100 in 11 stappen.\n",
    "- Een array tussen 0 en 100 in stappen van 10.\n",
    "- Een array van 0 tot $2\\pi$ in stappen van 0.1\n",
    "\n",
    "Wat merk je op?"
   ]
  },
  {
   "cell_type": "code",
   "execution_count": 5,
   "metadata": {},
   "outputs": [],
   "source": [
    "_11_steps = np.linspace(1,100,11)\n",
    "step_10 = np.arange(1,100,10)\n",
    "pi_arr = np.arange(0, 2*np.pi, 0.1)"
   ]
  },
  {
   "cell_type": "markdown",
   "metadata": {},
   "source": [
    "## Variable Explorer"
   ]
  },
  {
   "cell_type": "markdown",
   "metadata": {},
   "source": [
    "Met het commando 'whos' kun je in Jupyter alle gedeclareerde variabelen oproepen en inspecteren."
   ]
  },
  {
   "cell_type": "code",
   "execution_count": 6,
   "metadata": {},
   "outputs": [
    {
     "name": "stdout",
     "output_type": "stream",
     "text": [
      "Variable   Type       Data/Info\n",
      "-------------------------------\n",
      "A          ndarray    10: 10 elems, type `int64`, 80 bytes\n",
      "B          ndarray    3: 3 elems, type `int64`, 24 bytes\n",
      "C          ndarray    8: 8 elems, type `int64`, 64 bytes\n",
      "D          ndarray    4: 4 elems, type `int64`, 32 bytes\n",
      "R          ndarray    3x3: 9 elems, type `int64`, 72 bytes\n",
      "a          int        3\n",
      "b          int        4\n",
      "np         module     <module 'numpy' from '/ho<...>kages/numpy/__init__.py'>\n",
      "nst        module     <module 'scipy.stats' fro<...>scipy/stats/__init__.py'>\n",
      "opt        module     <module 'scipy.optimize' <...>py/optimize/__init__.py'>\n",
      "pi_arr     ndarray    63: 63 elems, type `float64`, 504 bytes\n",
      "step_10    ndarray    10: 10 elems, type `int64`, 80 bytes\n"
     ]
    }
   ],
   "source": [
    "whos"
   ]
  },
  {
   "cell_type": "markdown",
   "metadata": {},
   "source": [
    "Je kunt de gedeclareerde variablen overschrijven. Zie bijvoorbeeld wat er gebeurt als we opnieuw een variabele R declareren (hierboven was dit een 3x3 matrix)."
   ]
  },
  {
   "cell_type": "code",
   "execution_count": 7,
   "metadata": {
    "collapsed": true
   },
   "outputs": [],
   "source": [
    "R=4"
   ]
  },
  {
   "cell_type": "code",
   "execution_count": 8,
   "metadata": {},
   "outputs": [
    {
     "name": "stdout",
     "output_type": "stream",
     "text": [
      "Variable   Type       Data/Info\n",
      "-------------------------------\n",
      "A          ndarray    10: 10 elems, type `int64`, 80 bytes\n",
      "B          ndarray    3: 3 elems, type `int64`, 24 bytes\n",
      "C          ndarray    8: 8 elems, type `int64`, 64 bytes\n",
      "D          ndarray    4: 4 elems, type `int64`, 32 bytes\n",
      "R          int        4\n",
      "a          int        3\n",
      "b          int        4\n",
      "np         module     <module 'numpy' from '/ho<...>kages/numpy/__init__.py'>\n",
      "nst        module     <module 'scipy.stats' fro<...>scipy/stats/__init__.py'>\n",
      "opt        module     <module 'scipy.optimize' <...>py/optimize/__init__.py'>\n",
      "pi_arr     ndarray    63: 63 elems, type `float64`, 504 bytes\n",
      "step_10    ndarray    10: 10 elems, type `int64`, 80 bytes\n"
     ]
    }
   ],
   "source": [
    "whos"
   ]
  },
  {
   "cell_type": "markdown",
   "metadata": {},
   "source": [
    "We kunnen ook alle variabelen verwijderen uit het werkgeheugen, met het commando 'reset'"
   ]
  },
  {
   "cell_type": "code",
   "execution_count": 9,
   "metadata": {},
   "outputs": [
    {
     "name": "stdin",
     "output_type": "stream",
     "text": [
      "Once deleted, variables cannot be recovered. Proceed (y/[n])?  n\n"
     ]
    },
    {
     "name": "stdout",
     "output_type": "stream",
     "text": [
      "Nothing done.\n"
     ]
    }
   ],
   "source": [
    "reset"
   ]
  },
  {
   "cell_type": "code",
   "execution_count": 10,
   "metadata": {},
   "outputs": [
    {
     "name": "stdout",
     "output_type": "stream",
     "text": [
      "Variable   Type       Data/Info\n",
      "-------------------------------\n",
      "A          ndarray    10: 10 elems, type `int64`, 80 bytes\n",
      "B          ndarray    3: 3 elems, type `int64`, 24 bytes\n",
      "C          ndarray    8: 8 elems, type `int64`, 64 bytes\n",
      "D          ndarray    4: 4 elems, type `int64`, 32 bytes\n",
      "R          int        4\n",
      "a          int        3\n",
      "b          int        4\n",
      "np         module     <module 'numpy' from '/ho<...>kages/numpy/__init__.py'>\n",
      "nst        module     <module 'scipy.stats' fro<...>scipy/stats/__init__.py'>\n",
      "opt        module     <module 'scipy.optimize' <...>py/optimize/__init__.py'>\n",
      "pi_arr     ndarray    63: 63 elems, type `float64`, 504 bytes\n",
      "step_10    ndarray    10: 10 elems, type `int64`, 80 bytes\n"
     ]
    }
   ],
   "source": [
    "whos"
   ]
  },
  {
   "cell_type": "markdown",
   "metadata": {},
   "source": [
    "Pas op, dit verwijdert ook alle modules!"
   ]
  },
  {
   "cell_type": "code",
   "execution_count": 11,
   "metadata": {
    "collapsed": true
   },
   "outputs": [],
   "source": [
    "import numpy as np"
   ]
  },
  {
   "cell_type": "markdown",
   "metadata": {},
   "source": [
    "## Wiskundige operaties"
   ]
  },
  {
   "cell_type": "markdown",
   "metadata": {},
   "source": [
    "Veelal zul je werken met 'arrays' (i.e. een vorm van een 'lijst' van variabelen). Er bestaan ook nog andere klasses (classes) die deze functie kunnen vervullen (bijvoorbeeld de matrix klasse). Let echter goed op wat je wiskundige operaties betekenen: Matrixproduct, elementsgewijs vermenigvuldigen,... etc. Zie voorbeelden hieronder!"
   ]
  },
  {
   "cell_type": "markdown",
   "metadata": {},
   "source": [
    "Enkele matrices declareren (we hebben zojuist alles gereset)."
   ]
  },
  {
   "cell_type": "code",
   "execution_count": 12,
   "metadata": {},
   "outputs": [
    {
     "name": "stdout",
     "output_type": "stream",
     "text": [
      "[[1 1]\n",
      " [1 1]]\n"
     ]
    }
   ],
   "source": [
    "B = np.array([[1,1],[1,1]])\n",
    "print(B)"
   ]
  },
  {
   "cell_type": "code",
   "execution_count": 13,
   "metadata": {},
   "outputs": [
    {
     "name": "stdout",
     "output_type": "stream",
     "text": [
      "[[1 1]\n",
      " [1 1]]\n"
     ]
    }
   ],
   "source": [
    "C = np.ones((2,2))\n",
    "print(B)"
   ]
  },
  {
   "cell_type": "markdown",
   "metadata": {},
   "source": [
    "Vermenigvuldigen"
   ]
  },
  {
   "cell_type": "code",
   "execution_count": 14,
   "metadata": {},
   "outputs": [
    {
     "name": "stdout",
     "output_type": "stream",
     "text": [
      "[[2. 2.]\n",
      " [2. 2.]]\n",
      "[[1. 1.]\n",
      " [1. 1.]]\n"
     ]
    }
   ],
   "source": [
    "Vmatrix = np.dot(C,C)\n",
    "print(Vmatrix)\n",
    "\n",
    "Velement = C*C\n",
    "print(Velement)"
   ]
  },
  {
   "cell_type": "markdown",
   "metadata": {},
   "source": [
    "Machten"
   ]
  },
  {
   "cell_type": "code",
   "execution_count": 15,
   "metadata": {},
   "outputs": [
    {
     "name": "stdout",
     "output_type": "stream",
     "text": [
      "[[4. 4.]\n",
      " [4. 4.]]\n",
      "[[1. 1.]\n",
      " [1. 1.]]\n"
     ]
    }
   ],
   "source": [
    "Mmatrix = np.dot(np.dot(C,C),C)\n",
    "print(Mmatrix)\n",
    "\n",
    "Melement = C**3\n",
    "print(Melement)"
   ]
  },
  {
   "cell_type": "code",
   "execution_count": 16,
   "metadata": {},
   "outputs": [
    {
     "name": "stdout",
     "output_type": "stream",
     "text": [
      "1.66 µs ± 215 ns per loop (mean ± std. dev. of 7 runs, 1000000 loops each)\n"
     ]
    }
   ],
   "source": [
    "%%timeit\n",
    "C**3"
   ]
  },
  {
   "cell_type": "markdown",
   "metadata": {},
   "source": [
    "## DIY plots"
   ]
  },
  {
   "cell_type": "markdown",
   "metadata": {},
   "source": [
    "- Maak een rijvector van lengte 10 gevuld met willekeurge standaardnormaalverdeelde getallen. Bekijk hiervoor het commando, 'online' of via help(np.random.rand).   \n",
    "\n",
    "- Maak nog zo een vector aan op dezelfde manier.\n",
    "\n",
    "- Bereken het matrixproduct van de twee vectoren via het dot commando. Verwissel dan de vectoren. Wat merk je op?\n",
    "\n",
    "- Bereken het gemiddelde en de standaardafwijking van de twee vectoren. Zoek zelf op welke ingebouwde functies hiervoor beschikbaar zijn. Geeft dit wat je verwacht? Indien nee, waaraan kan dit liggen?\n"
   ]
  },
  {
   "cell_type": "code",
   "execution_count": 17,
   "metadata": {
    "collapsed": true
   },
   "outputs": [
    {
     "data": {
      "text/plain": [
       "-7.800905628460745"
      ]
     },
     "metadata": {},
     "output_type": "display_data"
    },
    {
     "data": {
      "text/plain": [
       "-7.800905628460745"
      ]
     },
     "metadata": {},
     "output_type": "display_data"
    }
   ],
   "source": [
    "[rand1, rand2] = np.random.randn(2, 10)\n",
    "display(np.dot(rand1, rand2), np.dot(rand2, rand1))"
   ]
  },
  {
   "cell_type": "code",
   "execution_count": 18,
   "metadata": {},
   "outputs": [
    {
     "data": {
      "text/plain": [
       "-0.43891972304748617"
      ]
     },
     "metadata": {},
     "output_type": "display_data"
    },
    {
     "data": {
      "text/plain": [
       "0.09136740429331838"
      ]
     },
     "metadata": {},
     "output_type": "display_data"
    },
    {
     "data": {
      "text/plain": [
       "0.7735197559015331"
      ]
     },
     "metadata": {},
     "output_type": "display_data"
    },
    {
     "data": {
      "text/plain": [
       "1.223446019591449"
      ]
     },
     "metadata": {},
     "output_type": "display_data"
    }
   ],
   "source": [
    "gemiddelde1 = np.mean(rand1)\n",
    "gemiddelde2 = np.mean(rand2)\n",
    "std1 = np.std(rand1)\n",
    "std2 = np.std(rand2)\n",
    "display(gemiddelde1, gemiddelde2, std1, std2)"
   ]
  },
  {
   "cell_type": "markdown",
   "metadata": {},
   "source": [
    "$\\textbf{Plotten}$\n",
    "\n",
    "Hieronder volgt een eenvoudig script waarbij er een sinus geplot wordt voor 1 periode.\n",
    "We gebruiken hiervoor de module matplotlib.pyplot"
   ]
  },
  {
   "cell_type": "code",
   "execution_count": 19,
   "metadata": {},
   "outputs": [
    {
     "data": {
      "text/plain": [
       "<Figure size 1000x800 with 1 Axes>"
      ]
     },
     "metadata": {},
     "output_type": "display_data"
    }
   ],
   "source": [
    "import matplotlib.pyplot as plt\n",
    "\n",
    "fig, ax = plt.subplots(1,1,figsize=(10,8))\n",
    "\n",
    "t = np.arange(0.0, 1, 0.01)\n",
    "s = np.sin(2*np.pi*t)\n",
    "\n",
    "ax.plot(t, s)\n",
    "plt.show()"
   ]
  },
  {
   "cell_type": "markdown",
   "metadata": {},
   "source": [
    "Wat is hier nu juist geplot? \n",
    "\n",
    "Pyplot heeft de koppels ($t_i$, $s_i$) geplot, en deze standaard verbonden met een blauwe, doorgetrokken lijn. \n",
    "\n",
    "LET OP: dit is in orde voor een 'theoretische, mathematische' curve, maar niet voor gemeten datapunten - zie hieronder.\n",
    "\n",
    "\n",
    "Verder missen er nog een aantal zaken onontbeerlijke zaken aan deze plot, namelijk:\n",
    "\n",
    "- Labels op de assen (met eenheid). Merk op dat je hiervoor de afkorting best gebruikt, mits die is geïntroduceerd is in het verslag (tijd -> t [s])\n",
    "- zorg ervoor dat alles leesbaar is (zoals de labels van de assen en de 'tick' labels)\n",
    "- Alles op de figuur moet geduid zijn (bijvoorbeeld welk symbool is er gebruikt voor de data, welk symbool voor de fit). Dit kan d.m.v. een legende en/of in het onderschrift van de figuur.\n",
    "\n",
    "Een interessant referentie voor de relevantie commando's, voorbeelden, en meer is: http://matplotlib.org/index.html \n",
    "\n",
    "Hieronder volgt een voorbeeld waarbij de opmaak in orde is gebracht."
   ]
  },
  {
   "cell_type": "code",
   "execution_count": 20,
   "metadata": {},
   "outputs": [
    {
     "data": {
      "image/png": "[encoded data removed]",
      "text/plain": [
       "<Figure size 864x576 with 1 Axes>"
      ]
     },
     "metadata": {
      "needs_background": "light"
     },
     "output_type": "display_data"
    }
   ],
   "source": [
    "t = np.arange(0.0, 1, 0.01)\n",
    "s = np.sin(2*np.pi*t)\n",
    "c = np.cos(2*np.pi*t)\n",
    "\n",
    "fig = plt.figure(figsize=(12, 8))\n",
    "\n",
    "#Sinus en Cosinus plotten, de kleur en het label bepalen. Deze laatste wordt gebruikt in de legende\n",
    "plt.plot(t, s, color = 'r', label = 'sinus', linewidth=3)\n",
    "plt.plot(t,c, color = 'b', label = 'cosinus', linewidth=3)\n",
    "\n",
    "# Assen labelen, en de grootte van het lettertype aanpassen\n",
    "plt.ylabel('amplitude [a.u.]', size=16)\n",
    "plt.xlabel('t [s]', size=16)\n",
    "\n",
    "#Titel en legende\n",
    "plt.title('een titel is niet verplicht!')\n",
    "plt.legend(fontsize=13)\n",
    "\n",
    "#tickgrootte aanpassen\n",
    "plt.tick_params(axis='both', which='major', labelsize=13)\n",
    "\n",
    "#Laat de plot 'inline' zien in Jupyter notebooks\n",
    "plt.show()\n"
   ]
  },
  {
   "cell_type": "markdown",
   "metadata": {},
   "source": [
    "Als je tevreden bent over een figuur, wil je deze uiteraard opslaan.\n",
    "\n",
    "Tip: Vindt 'voor jezelf', voor bijvoorbeeld verslagen (en later je bachelor- of masterthesis) een goede manier om figuren te exporten/opslaan. Welke lijnbreedte en tekstgrootte om leesbaar te zijn op A4? Welke resolutie? In welk formaat is gemakkelijk te importeren in mijn Latex, Word,... bestand?\n",
    "\n",
    "Een voorbeeld hieronder:"
   ]
  },
  {
   "cell_type": "code",
   "execution_count": 21,
   "metadata": {
    "collapsed": true
   },
   "outputs": [],
   "source": [
    "#fig.savefig('GonimetrischeFuncties.png')"
   ]
  },
  {
   "cell_type": "markdown",
   "metadata": {},
   "source": [
    "Merk op de figuur wordt opgeslagen in dezelfde map als waar het .py bestand (of in dit geval, .ipynb bestand) staat.\n",
    "In dit geval is de resolutie slecht, en zijn er zelfs zaken van de figuur afgesneden!\n",
    "\n",
    "Om dit te verhelpen, probeer bijvoorbeeld:\n",
    "\n",
    "(voor verdere opties, zie:https://matplotlib.org/devdocs/api/_as_gen/matplotlib.pyplot.savefig.html )"
   ]
  },
  {
   "cell_type": "code",
   "execution_count": 22,
   "metadata": {
    "collapsed": true
   },
   "outputs": [],
   "source": [
    "#fig.savefig('GonimetrischeFunctiesBeter.png', dpi=400, bbox_inches='tight') \n",
    "#je kunt een ander formaat figuur te kiezen door simpelweg de extensie in de naam te veranderen!"
   ]
  },
  {
   "cell_type": "markdown",
   "metadata": {},
   "source": [
    "$\\textbf{DIY: Plotten}$\n",
    "\n",
    "- Maak een plot van $y(\\theta) = \\tan^{-1}\\left[ \\tan \\left(\\theta \\right)\\right]$. Gebruikt $\\theta$  van $-\\pi$ tot $\\pi$. De meest eenoudige boogtangens functie die numpy kent, is 'arctan'. Klopt het resultaat met de verwachting?\n",
    "- Zoek nu op hoe je de zogenaamde 'arctan2' functie (de vier-kwadrant-inverse-tangens) kunt gebruiken.\n",
    "\n",
    "Zorg uiteindelijk voor een 2 plots van $y(\\theta)$ waar je telkens een verschillende boogtangensfunctie gebruikt op 1 figuur. Verzorg de opmaak!\n",
    "\n",
    "Laatste tip: bij het vierde practicum kunnen deze boogtangensfuncties van pas komen..."
   ]
  },
  {
   "cell_type": "code",
   "execution_count": 23,
   "metadata": {
    "collapsed": true
   },
   "outputs": [
    {
     "data": {
      "image/png": "[encoded data removed]",
      "text/plain": [
       "<Figure size 576x720 with 2 Axes>"
      ]
     },
     "metadata": {
      "needs_background": "light"
     },
     "output_type": "display_data"
    }
   ],
   "source": [
    "theta = np.linspace(-np.pi, np.pi, 200)\n",
    "y = np.arctan(np.tan(theta))\n",
    "\n",
    "fig = plt.figure(figsize=(8, 10))\n",
    "ax = fig.add_subplot(2,1,1)\n",
    "#fig.title(\"2 verschillende boogtangens functies\")\n",
    "\n",
    "ax.plot(theta, y, 'o', color=\"xkcd:baby poop\")\n",
    "ax.set_title(\"gewone np.arctan functie\")\n",
    "ax.set_xlabel(r\"$x$\")\n",
    "ax.set_ylabel(r\"$y$\")\n",
    "\n",
    "x1 = np.cos(theta)\n",
    "x2 = np.sin(theta)\n",
    "y = np.arctan2(x2, x1)\n",
    "\n",
    "ax = fig.add_subplot(2,1,2)\n",
    "\n",
    "ax.plot(theta, y)\n",
    "ax.set_xlabel(r\"$x$\")\n",
    "ax.set_ylabel(r\"$y$\")\n",
    "ax.set_title(\"np.arctan2 functie\")\n",
    "\n",
    "fig.tight_layout()\n",
    "\n",
    "plt.show()"
   ]
  },
  {
   "cell_type": "code",
   "execution_count": 24,
   "metadata": {},
   "outputs": [
    {
     "data": {
      "image/png": "[encoded data removed]",
      "text/plain": [
       "<Figure size 432x288 with 1 Axes>"
      ]
     },
     "metadata": {
      "needs_background": "light"
     },
     "output_type": "display_data"
    }
   ],
   "source": [
    "x1 = np.cos(theta)\n",
    "x2 = np.sin(theta)\n",
    "y = np.arctan2(x2, x1)\n",
    "\n",
    "fig = plt.figure()\n",
    "ax = fig.add_subplot(1,2,2)\n",
    "\n",
    "ax.plot(theta, y)\n",
    "\n",
    "plt.show()"
   ]
  },
  {
   "cell_type": "markdown",
   "metadata": {},
   "source": [
    "Twee voorbeelden van $\\textbf{'control flow'}$:"
   ]
  },
  {
   "cell_type": "code",
   "execution_count": 25,
   "metadata": {
    "collapsed": true
   },
   "outputs": [
    {
     "name": "stdout",
     "output_type": "stream",
     "text": [
      "k is groter dan of gelijk aan 3\n"
     ]
    }
   ],
   "source": [
    "k = 8\n",
    "\n",
    "if k < 3:\n",
    "    print('k is kleiner dan 3') #De indentation (1 tab) is belangrijk!\n",
    "else:\n",
    "    print('k is groter dan of gelijk aan 3')\n"
   ]
  },
  {
   "cell_type": "code",
   "execution_count": 26,
   "metadata": {
    "collapsed": true
   },
   "outputs": [
    {
     "name": "stdout",
     "output_type": "stream",
     "text": [
      "1\n",
      "2\n",
      "3\n",
      "4\n",
      "5\n"
     ]
    }
   ],
   "source": [
    "for i in range(1,6):\n",
    "    print(i) #merk op dat 'de laatste' in range, niet meer wordt meegeteld!"
   ]
  },
  {
   "cell_type": "markdown",
   "metadata": {},
   "source": [
    "$\\textbf{Functies}$\n",
    "\n",
    "We zijn voortdurend ingebouwde functies (in de verschillende libraries) aan het gebruiken. Zelf kunnen we echter ook functies invoeren. Bestudeer de onderstaande syntax:"
   ]
  },
  {
   "cell_type": "code",
   "execution_count": 27,
   "metadata": {
    "collapsed": true
   },
   "outputs": [
    {
     "data": {
      "image/png": "[encoded data removed]",
      "text/plain": [
       "<Figure size 432x288 with 1 Axes>"
      ]
     },
     "metadata": {
      "needs_background": "light"
     },
     "output_type": "display_data"
    }
   ],
   "source": [
    "#De functie RC geeft de spanning in functie van tijd terug, van een condensator in serie met een weerstand, met tijdsconstante tau en bronspanning Vbron.\n",
    "\n",
    "# als invoer heeft deze functie een vector voor de tijd, een tijdsconstante\n",
    "\n",
    "def RC(t,tau,Vbron):  \n",
    "# Def vertelt python dat er een functie gedefinieerd wordt \n",
    "# RC is de naam van de functie (nodig om deze op te roepen)\n",
    "# tussen haken staan de argumenten die deze functie nodig heeft. Dit zijn dummy variabelen, en hebben enkel betekenis binnen het 'def' statement.\n",
    "    return Vbron*(1-np.exp(-t/tau))\n",
    "#Na return staat wat deze functie nodig heeft\n",
    "\n",
    "tijd = np.arange(0,6,0.01) #s\n",
    "timeconstant = 1.2 #s\n",
    "Vsource = 5 #V\n",
    "\n",
    "#We weten dat de functie RC een vector terug geeft. Zo kunnen we deze dan ook gebruiken!\n",
    "#Merk op dat we de functie RC zowel een array als constanten meegeven!\n",
    "\n",
    "plt.plot(tijd, RC(tijd, timeconstant,Vsource), color = 'r', linewidth=3)\n",
    "plt.tick_params(axis='both', which='major', labelsize=14)\n",
    "plt.ylabel(r'$V$ [V]', size=16)\n",
    "plt.xlabel(r'$t$ [s]', size=16)\n",
    "plt.show()"
   ]
  },
  {
   "cell_type": "markdown",
   "metadata": {},
   "source": [
    "Merk op dat de ' functie' die we hierboven gedefinieerd hebben, niets te maken heeft met wat we uit de wiskunde kennen als een 'functievoorschrift'. Hiervoor kunnen een 'anonymous' of 'lambda' functie gebruiken, waarbij je expliciet de vrije variabele declareert. Hier een voorbeeld van een tweedgraadsfunctie:"
   ]
  },
  {
   "cell_type": "code",
   "execution_count": 28,
   "metadata": {
    "collapsed": true
   },
   "outputs": [],
   "source": [
    "TweedeGraad = lambda x: 3*x**2 - x - 5"
   ]
  },
  {
   "cell_type": "markdown",
   "metadata": {},
   "source": [
    "We kunnen nu gebruik maken van de SciPy optimize library om bijvoorbeeld de nulpunten of het minimum van deze functie te zoeken:"
   ]
  },
  {
   "cell_type": "code",
   "execution_count": 29,
   "metadata": {
    "collapsed": true
   },
   "outputs": [
    {
     "data": {
      "text/plain": [
       "      fun: -5.083333333333333\n",
       " hess_inv: array([[1]])\n",
       "      jac: array([0.])\n",
       "  message: 'Optimization terminated successfully.'\n",
       "     nfev: 9\n",
       "      nit: 1\n",
       "     njev: 3\n",
       "   status: 0\n",
       "  success: True\n",
       "        x: array([0.16666666])"
      ]
     },
     "execution_count": 29,
     "metadata": {},
     "output_type": "execute_result"
    }
   ],
   "source": [
    "import scipy.optimize as opt\n",
    "\n",
    "#Minimum\n",
    "opt.minimize(TweedeGraad, 0) # je kunt zelf makkelijk nagaan dat de oplossing x = 1/6 is. Python doet dit natuurlijk numeriek"
   ]
  },
  {
   "cell_type": "code",
   "execution_count": 30,
   "metadata": {
    "collapsed": true
   },
   "outputs": [
    {
     "name": "stdout",
     "output_type": "stream",
     "text": [
      "[-1.13504161] [1.46837495]\n"
     ]
    }
   ],
   "source": [
    "#Nulpunten:\n",
    "Nulpunt1=opt.fsolve(TweedeGraad,-10)\n",
    "Nulpunt2= opt.fsolve(TweedeGraad,10)\n",
    "# Wat gebeurt hier ?\n",
    "print(Nulpunt1,Nulpunt2)"
   ]
  },
  {
   "cell_type": "markdown",
   "metadata": {},
   "source": [
    "Een laatste zaak: het plotten van een lambda functie werkt, door deze eerste te 'mappen' over een bepaald bereik, zodat wij er weer een vertrouwde array van kunnen maken:"
   ]
  },
  {
   "cell_type": "code",
   "execution_count": 31,
   "metadata": {
    "collapsed": true
   },
   "outputs": [
    {
     "data": {
      "image/png": "[encoded data removed]",
      "text/plain": [
       "<Figure size 432x288 with 1 Axes>"
      ]
     },
     "metadata": {
      "needs_background": "light"
     },
     "output_type": "display_data"
    }
   ],
   "source": [
    "xas = np.arange(-5,5,0.01)\n",
    "yas = np.array(list(map(TweedeGraad,xas)))\n",
    "\n",
    "plt.plot(xas, yas,Linewidth=3)\n",
    "plt.ylabel(r'$y$', size=16)\n",
    "plt.xlabel(r'$x$', size=16)\n",
    "plt.grid()\n",
    "plt.show()"
   ]
  },
  {
   "cell_type": "markdown",
   "metadata": {},
   "source": [
    "$\\textbf{DIY: Functies}$\n",
    "\n",
    "We kunnen nu de (gewone) functies combineren met lambda functies. We kunnen bijvoorbeeld een gewone functie maken die als doel heeft om de coefficiënten aan een veelterm te geven.\n",
    "\n",
    "- Definieer een functie, die als output een lambda functie van de vorm $ax^2 + bx + c$. De coëffciënten $a,b$ en $c$ zijn de argumenten die je aan de functie kunt meegeven.\n",
    "\n",
    "- Maak nu een for loop om de volgende veeltermen op 1 plot weer te geven voor $ x = -5 ... 5 $:\n",
    "    - $3x^2 + 1x + 5$\n",
    "    - $2x^2 + 2x + 4$\n",
    "    - $1x^2 + 3x + 3$"
   ]
  },
  {
   "cell_type": "code",
   "execution_count": 32,
   "metadata": {
    "collapsed": true
   },
   "outputs": [],
   "source": [
    "def create_quadratic(a,b,c):\n",
    "    return lambda x: a*x**2 + b*x + c\n",
    "coefs = [[3, 1, 5], [2, 2, 4], [1, 3, 3]]\n",
    "funcs = [create_quadratic(*args) for args in coefs]"
   ]
  },
  {
   "cell_type": "code",
   "execution_count": 33,
   "metadata": {},
   "outputs": [],
   "source": [
    "skinny_legend = plt.legend"
   ]
  },
  {
   "cell_type": "code",
   "execution_count": 34,
   "metadata": {},
   "outputs": [
    {
     "data": {
      "image/png": "[encoded data removed]",
      "text/plain": [
       "<Figure size 864x576 with 1 Axes>"
      ]
     },
     "metadata": {
      "needs_background": "light"
     },
     "output_type": "display_data"
    }
   ],
   "source": [
    "fig = plt.figure(figsize=(12, 8))\n",
    "ax = fig.add_subplot(1,1,1)\n",
    "\n",
    "x = np.linspace(-5, 5, 200)\n",
    "\n",
    "for i in range(3):\n",
    "    ax.plot(x, np.array(list(map(funcs[i], x))), label=str(coefs[i]))\n",
    "\n",
    "skinny_legend()\n",
    "plt.show()"
   ]
  },
  {
   "cell_type": "markdown",
   "metadata": {},
   "source": [
    "Tijd om te beginnen aan het $\\textbf{fitalgoritme}$!\n",
    "\n",
    "We gaan gebruik maken van data, die voortgekomen is uit het practicum 'Netwerken en de wetten van Kirchhoff', namelijk de gemeten gesloten klemspanning $V_K$ [V] bij een stroom $I$ [mA], over een bron $V_1$ met open klemspanning $V_0$. In het practicum hebben we de interne weerstand $R_i$ [$\\Omega$] van de bron bepaald als:\n",
    "\n",
    "$R_i = \\frac{V_o - V_k}{I}$\n",
    "\n",
    "Als voorbeeld gaan we dit nu doen d.m.v. een lineaire fit  door $V_k(I)$ ('load curve of a battery'):\n",
    "\n",
    "$V_k = -R_i \\cdot I + V_o $\n",
    "\n",
    "We gebruiken hiervoor de kleinste-kwadraten methode zoals gezien in de theorieles.  Wat hebben we nodig:\n",
    "\n",
    "- De gevonden fitparameters (in dit geval de helling en intercept van de rechte, die repect. overeenkomen met de interne weerstand en de open klemspanning).\n",
    "- Een plot van de gevonden fit, bovenop de data\n",
    "- De fout ($1\\sigma$-fout) op de fitparameters\n",
    "- Een evaluatie van de 'goodness-of-fit' (in dit geval de gereduceerde $\\chi^2$-waarde).\n",
    "\n",
    "Allereerst zullen we hier weergeven de data ingeladen kan worden."
   ]
  },
  {
   "cell_type": "markdown",
   "metadata": {},
   "source": [
    "## fitten"
   ]
  },
  {
   "cell_type": "code",
   "execution_count": 35,
   "metadata": {
    "collapsed": true
   },
   "outputs": [
    {
     "data": {
      "text/html": [
       "<div>\n",
       "<style scoped>\n",
       "    .dataframe tbody tr th:only-of-type {\n",
       "        vertical-align: middle;\n",
       "    }\n",
       "\n",
       "    .dataframe tbody tr th {\n",
       "        vertical-align: top;\n",
       "    }\n",
       "\n",
       "    .dataframe thead th {\n",
       "        text-align: right;\n",
       "    }\n",
       "</style>\n",
       "<table border=\"1\" class=\"dataframe\">\n",
       "  <thead>\n",
       "    <tr style=\"text-align: right;\">\n",
       "      <th></th>\n",
       "      <th>0</th>\n",
       "      <th>1</th>\n",
       "      <th>2</th>\n",
       "      <th>3</th>\n",
       "    </tr>\n",
       "  </thead>\n",
       "  <tbody>\n",
       "    <tr>\n",
       "      <th>0</th>\n",
       "      <td>0.00413</td>\n",
       "      <td>0.00005</td>\n",
       "      <td>11.06</td>\n",
       "      <td>0.05</td>\n",
       "    </tr>\n",
       "    <tr>\n",
       "      <th>1</th>\n",
       "      <td>0.00421</td>\n",
       "      <td>0.00005</td>\n",
       "      <td>11.09</td>\n",
       "      <td>0.05</td>\n",
       "    </tr>\n",
       "    <tr>\n",
       "      <th>2</th>\n",
       "      <td>0.00665</td>\n",
       "      <td>0.00008</td>\n",
       "      <td>10.94</td>\n",
       "      <td>0.08</td>\n",
       "    </tr>\n",
       "    <tr>\n",
       "      <th>3</th>\n",
       "      <td>0.00974</td>\n",
       "      <td>0.00011</td>\n",
       "      <td>10.85</td>\n",
       "      <td>0.11</td>\n",
       "    </tr>\n",
       "    <tr>\n",
       "      <th>4</th>\n",
       "      <td>0.01284</td>\n",
       "      <td>0.00014</td>\n",
       "      <td>10.64</td>\n",
       "      <td>0.14</td>\n",
       "    </tr>\n",
       "    <tr>\n",
       "      <th>5</th>\n",
       "      <td>0.01404</td>\n",
       "      <td>0.00015</td>\n",
       "      <td>10.60</td>\n",
       "      <td>0.15</td>\n",
       "    </tr>\n",
       "    <tr>\n",
       "      <th>6</th>\n",
       "      <td>0.01860</td>\n",
       "      <td>0.00020</td>\n",
       "      <td>10.31</td>\n",
       "      <td>0.20</td>\n",
       "    </tr>\n",
       "  </tbody>\n",
       "</table>\n",
       "</div>"
      ],
      "text/plain": [
       "         0        1      2     3\n",
       "0  0.00413  0.00005  11.06  0.05\n",
       "1  0.00421  0.00005  11.09  0.05\n",
       "2  0.00665  0.00008  10.94  0.08\n",
       "3  0.00974  0.00011  10.85  0.11\n",
       "4  0.01284  0.00014  10.64  0.14\n",
       "5  0.01404  0.00015  10.60  0.15\n",
       "6  0.01860  0.00020  10.31  0.20"
      ]
     },
     "metadata": {},
     "output_type": "display_data"
    },
    {
     "data": {
      "image/png": "[encoded data removed]",
      "text/plain": [
       "<Figure size 432x288 with 1 Axes>"
      ]
     },
     "metadata": {
      "needs_background": "light"
     },
     "output_type": "display_data"
    }
   ],
   "source": [
    "#De pandas library bevat eenvoudige commando's om data in te lezen.\n",
    "\n",
    "import pandas as pd\n",
    "\n",
    "#De data is een text bestand, waarbij de kolommen gescheiden zijn door tabs.\n",
    "Data = pd.read_csv('Meting.txt', sep=\"\\t\", header=None)\n",
    "\n",
    "display(Data)\n",
    "#Data of print(Data) oproepen laat de ingeladen data op een elegante manier zien\n",
    "\n",
    "#De .txt file bevat geen headers (titel van kolom)\n",
    "# Kolom 1: stroom in A, kolom 2: systematische fout op stroom, kolom 3: klemspanning in V, kolom 4: systematische fout op stroom\n",
    "\n",
    "Voltage = np.array(Data[2])\n",
    "DV = np.array(Data[3])\n",
    "Stroom = np.array(Data[0])\n",
    "DI = np.array(Data[1])\n",
    "\n",
    "#Merk op dat we in een keer de data omzetten naar het type array!\n",
    "\n",
    "FigVi = plt.figure()\n",
    "\n",
    "plt.errorbar(Stroom*1000, Voltage, DV, DI*1000, label = 'V(I)', fmt = 'd ')\n",
    "plt.ylabel(r'$V_{k}$ [V]', size=20)\n",
    "plt.xlabel('$I$ [mA]', size=20)\n",
    "plt.legend(fontsize=16)\n",
    "plt.tick_params(axis='both', which='major', labelsize=14)\n",
    "\n",
    "plt.show()"
   ]
  },
  {
   "cell_type": "code",
   "execution_count": 36,
   "metadata": {
    "collapsed": true
   },
   "outputs": [
    {
     "data": {
      "text/html": [
       "<div>\n",
       "<style scoped>\n",
       "    .dataframe tbody tr th:only-of-type {\n",
       "        vertical-align: middle;\n",
       "    }\n",
       "\n",
       "    .dataframe tbody tr th {\n",
       "        vertical-align: top;\n",
       "    }\n",
       "\n",
       "    .dataframe thead th {\n",
       "        text-align: right;\n",
       "    }\n",
       "</style>\n",
       "<table border=\"1\" class=\"dataframe\">\n",
       "  <thead>\n",
       "    <tr style=\"text-align: right;\">\n",
       "      <th></th>\n",
       "      <th>$I$</th>\n",
       "      <th>$\\Delta I$</th>\n",
       "      <th>$V_k$</th>\n",
       "      <th>$\\Delta V$</th>\n",
       "    </tr>\n",
       "  </thead>\n",
       "  <tbody>\n",
       "    <tr>\n",
       "      <th>0</th>\n",
       "      <td>0.00413</td>\n",
       "      <td>0.00005</td>\n",
       "      <td>11.06</td>\n",
       "      <td>0.05</td>\n",
       "    </tr>\n",
       "    <tr>\n",
       "      <th>1</th>\n",
       "      <td>0.00421</td>\n",
       "      <td>0.00005</td>\n",
       "      <td>11.09</td>\n",
       "      <td>0.05</td>\n",
       "    </tr>\n",
       "    <tr>\n",
       "      <th>2</th>\n",
       "      <td>0.00665</td>\n",
       "      <td>0.00008</td>\n",
       "      <td>10.94</td>\n",
       "      <td>0.08</td>\n",
       "    </tr>\n",
       "    <tr>\n",
       "      <th>3</th>\n",
       "      <td>0.00974</td>\n",
       "      <td>0.00011</td>\n",
       "      <td>10.85</td>\n",
       "      <td>0.11</td>\n",
       "    </tr>\n",
       "    <tr>\n",
       "      <th>4</th>\n",
       "      <td>0.01284</td>\n",
       "      <td>0.00014</td>\n",
       "      <td>10.64</td>\n",
       "      <td>0.14</td>\n",
       "    </tr>\n",
       "    <tr>\n",
       "      <th>5</th>\n",
       "      <td>0.01404</td>\n",
       "      <td>0.00015</td>\n",
       "      <td>10.60</td>\n",
       "      <td>0.15</td>\n",
       "    </tr>\n",
       "    <tr>\n",
       "      <th>6</th>\n",
       "      <td>0.01860</td>\n",
       "      <td>0.00020</td>\n",
       "      <td>10.31</td>\n",
       "      <td>0.20</td>\n",
       "    </tr>\n",
       "  </tbody>\n",
       "</table>\n",
       "</div>"
      ],
      "text/plain": [
       "       $I$  $\\Delta I$  $V_k$  $\\Delta V$\n",
       "0  0.00413     0.00005  11.06        0.05\n",
       "1  0.00421     0.00005  11.09        0.05\n",
       "2  0.00665     0.00008  10.94        0.08\n",
       "3  0.00974     0.00011  10.85        0.11\n",
       "4  0.01284     0.00014  10.64        0.14\n",
       "5  0.01404     0.00015  10.60        0.15\n",
       "6  0.01860     0.00020  10.31        0.20"
      ]
     },
     "execution_count": 36,
     "metadata": {},
     "output_type": "execute_result"
    }
   ],
   "source": [
    "#Indien gewenst kun je ook de kolommen een naam geven, reeds bij het inladen:\n",
    "    \n",
    "colnames=[r'$I$', r'$\\Delta I$', r'$V_k$', r'$\\Delta V$'] \n",
    "Data2 = pd.read_csv('Meting.txt', names=colnames, header=None, sep=\"\\t\" )\n",
    "Data2"
   ]
  },
  {
   "cell_type": "markdown",
   "metadata": {},
   "source": [
    "### fit-functie"
   ]
  },
  {
   "cell_type": "markdown",
   "metadata": {},
   "source": [
    "Rekent de LS-functie uit"
   ]
  },
  {
   "cell_type": "code",
   "execution_count": 41,
   "metadata": {},
   "outputs": [
    {
     "data": {
      "image/png": "[encoded data removed]",
      "text/plain": [
       "<Figure size 864x576 with 1 Axes>"
      ]
     },
     "metadata": {
      "needs_background": "light"
     },
     "output_type": "display_data"
    }
   ],
   "source": [
    "fig, ax = plt.subplots(1,1,figsize=(12, 8))\n",
    "\n",
    "x = np.linspace(4, 20)\n",
    "ax.plot(x, rechte(x, sol['x']), label=r\"$ax+b$\")\n",
    "ax.errorbar(Data[0].values*1000, Data[2].values, Data[1].values*1000, Data[3].values, 'o', label=r\"$V(I)$\")\n",
    "ax.text(14, 11, \"parameters: a=%.4f, b=%.4f\" %(sol['x'][0], sol['x'][1]), size=12)\n",
    "\n",
    "plt.show()"
   ]
  },
  {
   "cell_type": "markdown",
   "metadata": {},
   "source": [
    "## $\\chi^2$-test"
   ]
  },
  {
   "cell_type": "markdown",
   "metadata": {},
   "source": [
    "## de fit functie"
   ]
  },
  {
   "cell_type": "code",
   "execution_count": 83,
   "metadata": {},
   "outputs": [],
   "source": [
    "#\n",
    "# hulpfuncties voor de fit-functie\n",
    "#\n",
    "\n",
    "# functie die de Least-squares functie uitrekent\n",
    "# f is de te fitten functie, x en y de gemeten waardes met sigma de fout op y\n",
    "# (normaal verdeeld). theta zijn de parameters voor f die geoptimaliseerd moeten worden\n",
    "def LS(theta, f, x, y, sigma):\n",
    "    return sum([(y[i] - f(x[i], theta))**2/sigma[i]**2 for i in range(len(x))])\n",
    "\n",
    "# minimaliseert de least-squares functie om de optimale parameters theta voor f te vinden\n",
    "# zodat f een zo goed mogelijke fit is door de datapunten (x_i, y_i)\n",
    "def find_theta(f, theta0, x, y, sigma):\n",
    "    return opt.minimize(LS, theta0, args=(f, x, y, sigma))\n",
    "\n",
    "# maakt van de LS functie een 1D functie in de variabele theta_index LS_i(t)\n",
    "def LS_i(t, LS, theta, index, f, x, y, sigma):\n",
    "    dt = np.zeros_like(theta)\n",
    "    dt[index] = t\n",
    "    return (LS(theta+dt, f, x, y, sigma)-LS(theta, f, x, y, sigma)-1)\n",
    "\n",
    "# zoekt de standaardafwijkingen op theta_index in de functie chi\n",
    "# van de minimale waarde chi(theta)\n",
    "def find_sigma(chi, theta, index, f, x, y, sigma, delta):\n",
    "    # los de vergelijking op\n",
    "    args = (chi, theta, index, f, x, y, sigma)\n",
    "    dt1 = opt.fsolve(LS_i, delta, args=args)\n",
    "    dt2 = opt.fsolve(LS_i, -delta, args=args)\n",
    "    return (dt2, dt1)\n",
    "\n",
    "# ----------------------------------------------------------------------------------------------\n",
    "# de fit functie\n",
    "\n",
    "# fit de functie f door de datapunten (x_i, y_i) met fout dy op y met de least-squares methode.\n",
    "# theta0 is een eerste gok voor de parameters van f. delta is een gok op de procentuele afwijking\n",
    "# van de gefitte parameters (array met zelfde dimensies als theta0)\n",
    "def fit_function(f, x, y, dy, theta0, delta):\n",
    "    # zoek de optimale waarde voor theta\n",
    "    theta = find_theta(f, theta0, x, y, dy)\n",
    "    # bereken de fout op theta\n",
    "    sigma = [find_sigma(LS, theta['x'], i, f, x, y, dy, delta[i]*theta['x'][i]) for i in range(len(theta['x']))]\n",
    "    # bereken de p-waarde van de fit\n",
    "    vrijheid = len(x)-len(theta0)\n",
    "    p = 1-nst.chi2.cdf(theta['fun'], vrijheid)\n",
    "    return {'param' : theta['x'], 'stdv' : sigma, 'p' : p}"
   ]
  },
  {
   "cell_type": "code",
   "execution_count": 89,
   "metadata": {},
   "outputs": [],
   "source": [
    "x = Stroom*1000\n",
    "y = Voltage\n",
    "dx = DI*1000\n",
    "dy = DV/np.sqrt(12)\n",
    "fit = fit_function(rechte, x, y, dy, (-0.1, 10), (0.1, 0.1))"
   ]
  },
  {
   "cell_type": "code",
   "execution_count": 94,
   "metadata": {},
   "outputs": [
    {
     "data": {
      "image/png": "[encoded data removed]",
      "text/plain": [
       "<Figure size 864x576 with 1 Axes>"
      ]
     },
     "metadata": {
      "needs_background": "light"
     },
     "output_type": "display_data"
    }
   ],
   "source": [
    "fig, ax = plt.subplots(1,1,figsize=(12, 8))\n",
    "\n",
    "X = np.linspace(4, 20)\n",
    "ax.plot(X, rechte(X, fit['param']), label=r\"$ax+b$\")\n",
    "ax.errorbar(x, y, DV, DI, 'o', label=r\"$V(I)$\")\n",
    "ax.text(14, 11, \"parameters: a=%.4f, b=%.4f\" %(fit['param'][0], fit['param'][1]), size=12)\n",
    "\n",
    "ax.set_xlabel(\"Stroom I [mA]\")\n",
    "ax.set_ylabel(r\"Spanning $V_k$ [V]\")\n",
    "plt.title(\"Spanning in functie van stroom\")\n",
    "\n",
    "plt.show()"
   ]
  },
  {
   "cell_type": "code",
   "execution_count": 96,
   "metadata": {},
   "outputs": [
    {
     "data": {
      "text/plain": [
       "{'param': array([-49.35926987,  11.28170972]),\n",
       " 'stdv': [(array([1.23673152]), array([-1.23672993])),\n",
       "  (array([-0.00847813]), array([0.00847814]))],\n",
       " 'p': 0.2632118803371366}"
      ]
     },
     "execution_count": 96,
     "metadata": {},
     "output_type": "execute_result"
    }
   ],
   "source": [
    "fit_function(rechte, x/1000, y, dy, (-0.1, 10), (0.1, 0.1))"
   ]
  }
 ],
 "metadata": {
  "kernelspec": {
   "display_name": "Python 3",
   "language": "python",
   "name": "python3"
  },
  "language_info": {
   "codemirror_mode": {
    "name": "ipython",
    "version": 3
   },
   "file_extension": ".py",
   "mimetype": "text/x-python",
   "name": "python",
   "nbconvert_exporter": "python",
   "pygments_lexer": "ipython3",
   "version": "3.7.0"
  },
  "toc-showmarkdowntxt": false
 },
 "nbformat": 4,
 "nbformat_minor": 2
}
