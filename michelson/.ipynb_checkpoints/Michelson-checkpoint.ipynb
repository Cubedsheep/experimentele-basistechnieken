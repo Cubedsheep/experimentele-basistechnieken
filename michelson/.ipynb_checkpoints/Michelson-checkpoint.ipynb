{
 "cells": [
  {
   "cell_type": "markdown",
   "metadata": {},
   "source": [
    "# Dataverwerking michelson interferrometer"
   ]
  },
  {
   "cell_type": "markdown",
   "metadata": {},
   "source": [
    "## Importeren packages"
   ]
  },
  {
   "cell_type": "code",
   "execution_count": 1,
   "metadata": {},
   "outputs": [],
   "source": [
    "import numpy as np\n",
    "import sympy as sp\n",
    "import matplotlib as mpl\n",
    "import matplotlib.animation as animation\n",
    "import matplotlib.pyplot as plt\n",
    "import pandas as pd\n",
    "import math\n",
    "import scipy.optimize as opt\n",
    "import scipy.stats as nst\n",
    "\n",
    "sp.init_printing()"
   ]
  },
  {
   "cell_type": "code",
   "execution_count": 2,
   "metadata": {},
   "outputs": [],
   "source": [
    "#%matplotlib widget"
   ]
  },
  {
   "cell_type": "code",
   "execution_count": 3,
   "metadata": {},
   "outputs": [],
   "source": [
    "mpl.rcParams['figure.dpi'] = 200"
   ]
  },
  {
   "cell_type": "code",
   "execution_count": 4,
   "metadata": {},
   "outputs": [],
   "source": [
    "def error(func, variables, S_variables):\n",
    "    return sp.sqrt(sum([sp.diff(func, var)**2 * S_var**2 for (var, S_var) in zip(variables, S_variables)]))"
   ]
  },
  {
   "cell_type": "markdown",
   "metadata": {},
   "source": [
    "## Bepalen golflengte laser"
   ]
  },
  {
   "cell_type": "markdown",
   "metadata": {},
   "source": [
    "Invoeren data"
   ]
  },
  {
   "cell_type": "code",
   "execution_count": 5,
   "metadata": {},
   "outputs": [],
   "source": [
    "# array met het aantal getelde lijnen en de fout hierop\n",
    "tellingen = np.array([30, 30, 50, 100, 50])\n",
    "d_tellingen = np.ones_like(tellingen)/np.sqrt(3)\n",
    "# array met hoeveel µm de spiegel verschoven was en de fout hierop\n",
    "afstand = np.array([9.5, 9.5, 16, 31.5, 16])\n",
    "d_afstand = np.ones_like(afstand)*0.5/np.sqrt(3)"
   ]
  },
  {
   "cell_type": "markdown",
   "metadata": {},
   "source": [
    "formules voor de golflengte en de fout"
   ]
  },
  {
   "cell_type": "code",
   "execution_count": 6,
   "metadata": {},
   "outputs": [],
   "source": [
    "x, N, d_x, d_N = sp.symbols(\"x, N, d_x, d_N\")\n",
    "lam = 2*x/N\n",
    "d_lam = error(lam, [x, N], [d_x, d_N])"
   ]
  },
  {
   "cell_type": "markdown",
   "metadata": {},
   "source": [
    "bereken de golflengtes en de fout erop voor de verschillende metingen"
   ]
  },
  {
   "cell_type": "code",
   "execution_count": 7,
   "metadata": {},
   "outputs": [
    {
     "data": {
      "image/png": "[encoded data removed]",
      "text/latex": [
       "$$633.3154031948013$$"
      ],
      "text/plain": [
       "633.3154031948013"
      ]
     },
     "metadata": {},
     "output_type": "display_data"
    },
    {
     "data": {
      "image/png": "[encoded data removed]",
      "text/latex": [
       "$$5.272548292639358$$"
      ],
      "text/plain": [
       "5.272548292639358"
      ]
     },
     "metadata": {},
     "output_type": "display_data"
    }
   ],
   "source": [
    "golflengtes = sp.lambdify([x, N, d_x, d_N], lam, \"numpy\")(afstand, tellingen,\n",
    "                                                         d_afstand, d_tellingen)\n",
    "d_golflengtes = sp.lambdify([x, N, d_x, d_N], d_lam, \"numpy\")(afstand, tellingen,\n",
    "                                                         d_afstand, d_tellingen)\n",
    "# neem een gewogen gemiddelde van de berekende golflengtes\n",
    "g = 1/d_golflengtes**2\n",
    "golflengte = np.dot(golflengtes, g)/np.sum(g)\n",
    "d_golflengte = 1/np.sqrt(np.sum(g))\n",
    "display(golflengte*1000, d_golflengte*1000)"
   ]
  },
  {
   "cell_type": "markdown",
   "metadata": {},
   "source": [
    "## Bepalen brekingsindex"
   ]
  },
  {
   "cell_type": "markdown",
   "metadata": {},
   "source": [
    "Importeren data"
   ]
  },
  {
   "cell_type": "code",
   "execution_count": 8,
   "metadata": {},
   "outputs": [],
   "source": [
    "lucht_frame = pd.read_excel(\"druk-en-tellingen.xlsx\", sheet_name=\"Lucht\")\n",
    "CO2_frame = pd.read_excel(\"druk-en-tellingen.xlsx\", sheet_name=\"CO2\")"
   ]
  },
  {
   "cell_type": "code",
   "execution_count": 9,
   "metadata": {},
   "outputs": [],
   "source": [
    "p, dp = sp.symbols('p, d_p')\n",
    "frac = N/(p*1000)\n",
    "d_frac = error(frac, [N, p], [d_N, dp])"
   ]
  },
  {
   "cell_type": "markdown",
   "metadata": {},
   "source": [
    "brekingsindex lucht"
   ]
  },
  {
   "cell_type": "code",
   "execution_count": 10,
   "metadata": {},
   "outputs": [],
   "source": [
    "subs = {N : lucht_frame[\"tel\"].values[-1]-1, p : lucht_frame[\"druk\"].values[-1] - \n",
    "        lucht_frame[\"druk\"].values[1], d_N : 1, dp : 1}\n",
    "frac_lucht = frac.subs(subs)\n",
    "dfrac_lucht = d_frac.subs(subs)"
   ]
  },
  {
   "cell_type": "code",
   "execution_count": 11,
   "metadata": {},
   "outputs": [
    {
     "data": {
      "image/png": "[encoded data removed]",
      "text/latex": [
       "$$1.00035080974042$$"
      ],
      "text/plain": [
       "1.00035080974042"
      ]
     },
     "metadata": {},
     "output_type": "display_data"
    },
    {
     "data": {
      "image/png": "[encoded data removed]",
      "text/latex": [
       "$$2.116507239502 \\cdot 10^{-5}$$"
      ],
      "text/plain": [
       "2.11650723950200e-5"
      ]
     },
     "metadata": {},
     "output_type": "display_data"
    }
   ],
   "source": [
    "dNdP, L, lam, T, T0, p0, n0 = sp.symbols('dN/dP, L, lambda, T, T_0, p_0, n_0')\n",
    "SdNdP, SL, Slam, ST, ST0, Sp0 = sp.symbols('S_dN/dP, S_L, S_lambda, S_T, S_T_0, S_p_0')\n",
    "eq = sp.Eq(dNdP, 2*L/lam * (n0-1)/T * T0/p0)\n",
    "n0 = sp.solve(eq, n0)[0]\n",
    "S_n0 = error(n0, [dNdP, L, lam, T, T0, p0], [SdNdP, SL, Slam, ST, ST0, Sp0])\n",
    "subs = {dNdP:frac_lucht, L:0.0384, lam:golflengte*1e-6, T:293.15, T0:273.15, p0:1.013e5,\n",
    "       SdNdP:dfrac_lucht, SL:0, Slam:d_golflengte*1e-6, ST:1, ST0:0, Sp0:0}\n",
    "display(n0.subs(subs), S_n0.subs(subs))"
   ]
  },
  {
   "cell_type": "markdown",
   "metadata": {},
   "source": [
    "brekingsindex CO2"
   ]
  },
  {
   "cell_type": "code",
   "execution_count": 12,
   "metadata": {},
   "outputs": [],
   "source": [
    "subs = {N : CO2_frame[\"tel\"].values[-1]-1, p : CO2_frame[\"druk\"].values[-1] - \n",
    "        CO2_frame[\"druk\"].values[1], d_N : 1, dp : 1}\n",
    "frac_lucht = frac.subs(subs)\n",
    "dfrac_lucht = d_frac.subs(subs)"
   ]
  },
  {
   "cell_type": "code",
   "execution_count": 13,
   "metadata": {},
   "outputs": [
    {
     "data": {
      "image/png": "[encoded data removed]",
      "text/latex": [
       "$$1.00039845056937$$"
      ],
      "text/plain": [
       "1.00039845056937"
      ]
     },
     "metadata": {},
     "output_type": "display_data"
    },
    {
     "data": {
      "image/png": "[encoded data removed]",
      "text/latex": [
       "$$2.20943424746938 \\cdot 10^{-5}$$"
      ],
      "text/plain": [
       "2.20943424746938e-5"
      ]
     },
     "metadata": {},
     "output_type": "display_data"
    }
   ],
   "source": [
    "dNdP, L, lam, T, T0, p0, n0 = sp.symbols('dN/dP, L, lambda, T, T_0, p_0, n_0')\n",
    "SdNdP, SL, Slam, ST, ST0, Sp0 = sp.symbols('S_dN/dP, S_L, S_lambda, S_T, S_T_0, S_p_0')\n",
    "eq = sp.Eq(dNdP, 2*L/lam * (n0-1)/T * T0/p0)\n",
    "n0 = sp.solve(eq, n0)[0]\n",
    "S_n0 = error(n0, [dNdP, L, lam, T, T0, p0], [SdNdP, SL, Slam, ST, ST0, Sp0])\n",
    "subs = {dNdP:frac_lucht, L:0.0384, lam:golflengte*1e-6, T:293.15, T0:273.15, p0:1.013e5,\n",
    "       SdNdP:dfrac_lucht, SL:0, Slam:d_golflengte*1e-6, ST:1, ST0:0, Sp0:0}\n",
    "display(n0.subs(subs), S_n0.subs(subs))"
   ]
  }
 ],
 "metadata": {
  "kernelspec": {
   "display_name": "Python 3",
   "language": "python",
   "name": "python3"
  },
  "language_info": {
   "codemirror_mode": {
    "name": "ipython",
    "version": 3
   },
   "file_extension": ".py",
   "mimetype": "text/x-python",
   "name": "python",
   "nbconvert_exporter": "python",
   "pygments_lexer": "ipython3",
   "version": "3.7.1"
  }
 },
 "nbformat": 4,
 "nbformat_minor": 2
}
