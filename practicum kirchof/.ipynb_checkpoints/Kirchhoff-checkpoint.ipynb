{
 "cells": [
  {
   "cell_type": "code",
   "execution_count": 1,
   "metadata": {},
   "outputs": [
    {
     "name": "stderr",
     "output_type": "stream",
     "text": [
      "C:\\ProgramData\\Miniconda3\\lib\\site-packages\\matplotlib\\style\\core.py:201: UserWarning: In C:\\ProgramData\\Miniconda3\\lib\\site-packages\\matplotlib\\mpl-data\\stylelib\\beaver_color_theme.mplstyle: Bad val \"'\" on line #1\n",
      "\t\"axes.prop_cycle : '#d8d8d8', '#969696', '#cc0000', '#33b2b2'\"\n",
      "\tin file \"C:\\ProgramData\\Miniconda3\\lib\\site-packages\\matplotlib\\mpl-data\\stylelib\\beaver_color_theme.mplstyle\"\n",
      "\tKey axes.prop_cycle: ''' is not a valid cycler construction: EOL while scanning string literal (<string>, line 1)\n",
      "  warnings.warn(message)\n"
     ]
    }
   ],
   "source": [
    "import numpy as np\n",
    "\n",
    "#import faseportret as fp\n",
    "\n",
    "import matplotlib.pyplot as plt\n",
    "import matplotlib.animation as animation\n",
    "from mpl_toolkits.mplot3d import Axes3D\n",
    "# import seaborn as sns\n",
    "import matplotlib.colors as colors\n",
    "import os\n",
    "\n",
    "# import scipy.io as io\n",
    "# import scipy.interpolate as inter\n",
    "# import scipy.optimize as opt\n",
    "import sympy as sp\n",
    "\n",
    "import math\n",
    "import pandas as pd\n",
    "\n",
    "#plt.style.use(['gruvboxd_style_theme', 'gruvboxd_color_theme'])\n",
    "\n",
    "import matplotlib.animation as animation\n",
    "\n",
    "\n",
    "from IPython.display import display\n",
    "sp.init_printing()\n",
    "%matplotlib notebook"
   ]
  },
  {
   "cell_type": "code",
   "execution_count": 5,
   "metadata": {},
   "outputs": [],
   "source": [
    "# functie om foutenpropagatieformules uit te rekenen\n",
    "def fout(expression, variables, stdvs):\n",
    "    f2 = 0 # initialiseer de formule\n",
    "    # voeg de term voor elke variabele toe\n",
    "    for i in range(len(variables)):\n",
    "        f2 += sp.diff(expression, variables[i])**2 * stdvs[i]**2\n",
    "    # neem de wortel en return dit als resultaat\n",
    "    return sp.sqrt(f2)"
   ]
  },
  {
   "cell_type": "markdown",
   "metadata": {},
   "source": [
    "# Voorbereidende oefeningen"
   ]
  },
  {
   "cell_type": "markdown",
   "metadata": {},
   "source": [
    "**Oefening 1**"
   ]
  },
  {
   "cell_type": "code",
   "execution_count": 43,
   "metadata": {},
   "outputs": [],
   "source": [
    "# initialiseren symbolen en in lijsten zetten om eenvoudig te refereren\n",
    "Rc, Rd, Re, Rn, Vt, Vn, In = sp.symbols('R_C, R_D, R_E, R_n, V_T, V_n, I_n')\n",
    "dRc, dRd, dRe, dVt = sp.symbols('dR_c, dR_D, dR_E, dV_T')\n",
    "var = [Rc, Rd, Re, Vt]\n",
    "stdv = [dRc, dRd, dRe, dVt]"
   ]
  },
  {
   "cell_type": "code",
   "execution_count": 44,
   "metadata": {},
   "outputs": [
    {
     "data": {
      "image/png": "[encoded data removed]",
      "text/latex": [
       "$$\\frac{R_{E} V_{T}}{R_{C} + R_{E}}$$"
      ],
      "text/plain": [
       " R_E⋅V_T \n",
       "─────────\n",
       "R_C + R_E"
      ]
     },
     "metadata": {},
     "output_type": "display_data"
    },
    {
     "data": {
      "image/png": "[encoded data removed]",
      "text/latex": [
       "$$\\frac{R_{C} R_{E}}{R_{C} + R_{E}} + R_{D}$$"
      ],
      "text/plain": [
       " R_C⋅R_E       \n",
       "───────── + R_D\n",
       "R_C + R_E      "
      ]
     },
     "metadata": {},
     "output_type": "display_data"
    },
    {
     "data": {
      "image/png": "[encoded data removed]",
      "text/latex": [
       "$$\\frac{R_{E} V_{T}}{\\left(R_{C} + R_{E}\\right) \\left(\\frac{R_{C} R_{E}}{R_{C} + R_{E}} + R_{D}\\right)}$$"
      ],
      "text/plain": [
       "           R_E⋅V_T           \n",
       "─────────────────────────────\n",
       "            ⎛ R_C⋅R_E       ⎞\n",
       "(R_C + R_E)⋅⎜───────── + R_D⎟\n",
       "            ⎝R_C + R_E      ⎠"
      ]
     },
     "metadata": {},
     "output_type": "display_data"
    }
   ],
   "source": [
    "# formules voor V_n, R_N en I_N\n",
    "VN = Vt*Re/(Re+Rc)\n",
    "RN = Rd + Rc*Re/(Re+Rc)\n",
    "IN = VN / RN\n",
    "display(VN, RN, IN)\n",
    "#print(sp.latex(VN))"
   ]
  },
  {
   "cell_type": "code",
   "execution_count": 6,
   "metadata": {},
   "outputs": [
    {
     "data": {
      "image/png": "[encoded data removed]",
      "text/latex": [
       "$$\\sqrt{\\frac{R_{E}^{2} V_{T}^{2} dR_{c}^{2}}{\\left(R_{C} + R_{E}\\right)^{4}} + \\frac{R_{E}^{2} dV_{T}^{2}}{\\left(R_{C} + R_{E}\\right)^{2}} + dR_{E}^{2} \\left(- \\frac{R_{E} V_{T}}{\\left(R_{C} + R_{E}\\right)^{2}} + \\frac{V_{T}}{R_{C} + R_{E}}\\right)^{2}}$$"
      ],
      "text/plain": [
       "      ______________________________________________________________________\n",
       "     ╱    2    2     2       2     2                                      2 \n",
       "    ╱  R_E ⋅V_T ⋅dR_c     R_E ⋅dV_T         2 ⎛    R_E⋅V_T         V_T   ⎞  \n",
       "   ╱   ─────────────── + ──────────── + dR_E ⋅⎜- ──────────── + ─────────⎟  \n",
       "  ╱                 4               2         ⎜             2   R_C + R_E⎟  \n",
       "╲╱       (R_C + R_E)     (R_C + R_E)          ⎝  (R_C + R_E)             ⎠  "
      ]
     },
     "metadata": {},
     "output_type": "display_data"
    },
    {
     "data": {
      "image/png": "[encoded data removed]",
      "text/latex": [
       "$$\\sqrt{dR_{D}^{2} + dR_{E}^{2} \\left(- \\frac{R_{C} R_{E}}{\\left(R_{C} + R_{E}\\right)^{2}} + \\frac{R_{C}}{R_{C} + R_{E}}\\right)^{2} + dR_{c}^{2} \\left(- \\frac{R_{C} R_{E}}{\\left(R_{C} + R_{E}\\right)^{2}} + \\frac{R_{E}}{R_{C} + R_{E}}\\right)^{2}}$$"
      ],
      "text/plain": [
       "      ________________________________________________________________________\n",
       "     ╱                                           2                            \n",
       "    ╱      2       2 ⎛    R_C⋅R_E         R_C   ⎞        2 ⎛    R_C⋅R_E       \n",
       "   ╱   dR_D  + dR_E ⋅⎜- ──────────── + ─────────⎟  + dR_c ⋅⎜- ──────────── + ─\n",
       "  ╱                  ⎜             2   R_C + R_E⎟          ⎜             2   R\n",
       "╲╱                   ⎝  (R_C + R_E)             ⎠          ⎝  (R_C + R_E)     \n",
       "\n",
       "___________\n",
       "         2 \n",
       "  R_E   ⎞  \n",
       "────────⎟  \n",
       "_C + R_E⎟  \n",
       "        ⎠  "
      ]
     },
     "metadata": {},
     "output_type": "display_data"
    },
    {
     "data": {
      "image/png": "[encoded data removed]",
      "text/latex": [
       "$$\\sqrt{\\frac{R_{E}^{2} V_{T}^{2} dR_{D}^{2}}{\\left(R_{C} + R_{E}\\right)^{2} \\left(\\frac{R_{C} R_{E}}{R_{C} + R_{E}} + R_{D}\\right)^{4}} + \\frac{R_{E}^{2} dV_{T}^{2}}{\\left(R_{C} + R_{E}\\right)^{2} \\left(\\frac{R_{C} R_{E}}{R_{C} + R_{E}} + R_{D}\\right)^{2}} + dR_{E}^{2} \\left(\\frac{R_{E} V_{T} \\left(\\frac{R_{C} R_{E}}{\\left(R_{C} + R_{E}\\right)^{2}} - \\frac{R_{C}}{R_{C} + R_{E}}\\right)}{\\left(R_{C} + R_{E}\\right) \\left(\\frac{R_{C} R_{E}}{R_{C} + R_{E}} + R_{D}\\right)^{2}} - \\frac{R_{E} V_{T}}{\\left(R_{C} + R_{E}\\right)^{2} \\left(\\frac{R_{C} R_{E}}{R_{C} + R_{E}} + R_{D}\\right)} + \\frac{V_{T}}{\\left(R_{C} + R_{E}\\right) \\left(\\frac{R_{C} R_{E}}{R_{C} + R_{E}} + R_{D}\\right)}\\right)^{2} + dR_{c}^{2} \\left(\\frac{R_{E} V_{T} \\left(\\frac{R_{C} R_{E}}{\\left(R_{C} + R_{E}\\right)^{2}} - \\frac{R_{E}}{R_{C} + R_{E}}\\right)}{\\left(R_{C} + R_{E}\\right) \\left(\\frac{R_{C} R_{E}}{R_{C} + R_{E}} + R_{D}\\right)^{2}} - \\frac{R_{E} V_{T}}{\\left(R_{C} + R_{E}\\right)^{2} \\left(\\frac{R_{C} R_{E}}{R_{C} + R_{E}} + R_{D}\\right)}\\right)^{2}}$$"
      ],
      "text/plain": [
       "           ___________________________________________________________________\n",
       "          ╱                                                                   \n",
       "         ╱                                                                    \n",
       "        ╱                                                                     \n",
       "       ╱               2    2     2                         2     2           \n",
       "      ╱             R_E ⋅V_T ⋅dR_D                       R_E ⋅dV_T            \n",
       "     ╱      ─────────────────────────────── + ─────────────────────────────── \n",
       "    ╱                                     4                                 2 \n",
       "   ╱                   2 ⎛ R_C⋅R_E       ⎞               2 ⎛ R_C⋅R_E       ⎞  \n",
       "  ╱         (R_C + R_E) ⋅⎜───────── + R_D⎟    (R_C + R_E) ⋅⎜───────── + R_D⎟  \n",
       "╲╱                       ⎝R_C + R_E      ⎠                 ⎝R_C + R_E      ⎠  \n",
       "\n",
       "______________________________________________________________________________\n",
       "                                                                              \n",
       "        ⎛        ⎛  R_C⋅R_E         R_C   ⎞                                   \n",
       "        ⎜R_E⋅V_T⋅⎜──────────── - ─────────⎟                                   \n",
       "        ⎜        ⎜           2   R_C + R_E⎟                                   \n",
       "      2 ⎜        ⎝(R_C + R_E)             ⎠              R_E⋅V_T              \n",
       "+ dR_E ⋅⎜────────────────────────────────── - ────────────────────────────── +\n",
       "        ⎜                               2                2 ⎛ R_C⋅R_E       ⎞  \n",
       "        ⎜              ⎛ R_C⋅R_E       ⎞      (R_C + R_E) ⋅⎜───────── + R_D⎟  \n",
       "        ⎜  (R_C + R_E)⋅⎜───────── + R_D⎟                   ⎝R_C + R_E      ⎠  \n",
       "        ⎝              ⎝R_C + R_E      ⎠                                      \n",
       "\n",
       "______________________________________________________________________________\n",
       "                               2                                              \n",
       "                              ⎞          ⎛        ⎛  R_C⋅R_E         R_E   ⎞  \n",
       "                              ⎟          ⎜R_E⋅V_T⋅⎜──────────── - ─────────⎟  \n",
       "                              ⎟          ⎜        ⎜           2   R_C + R_E⎟  \n",
       "              V_T             ⎟        2 ⎜        ⎝(R_C + R_E)             ⎠  \n",
       " ─────────────────────────────⎟  + dR_c ⋅⎜────────────────────────────────── -\n",
       "             ⎛ R_C⋅R_E       ⎞⎟          ⎜                               2    \n",
       " (R_C + R_E)⋅⎜───────── + R_D⎟⎟          ⎜              ⎛ R_C⋅R_E       ⎞     \n",
       "             ⎝R_C + R_E      ⎠⎟          ⎜  (R_C + R_E)⋅⎜───────── + R_D⎟     \n",
       "                              ⎠          ⎝              ⎝R_C + R_E      ⎠     \n",
       "\n",
       "__________________________________\n",
       "                                2 \n",
       "                               ⎞  \n",
       "                               ⎟  \n",
       "                               ⎟  \n",
       "            R_E⋅V_T            ⎟  \n",
       " ──────────────────────────────⎟  \n",
       "            2 ⎛ R_C⋅R_E       ⎞⎟  \n",
       " (R_C + R_E) ⋅⎜───────── + R_D⎟⎟  \n",
       "              ⎝R_C + R_E      ⎠⎟  \n",
       "                               ⎠  "
      ]
     },
     "metadata": {},
     "output_type": "display_data"
    }
   ],
   "source": [
    "# bereken de fouten op deze uitdrukkingen\n",
    "def fout(expression, variables, stdvs):\n",
    "    f2 = 0\n",
    "    for i in range(len(variables)):\n",
    "        f2 += sp.diff(expression, variables[i])**2 * stdvs[i]**2\n",
    "    return sp.sqrt(f2)\n",
    "\n",
    "dVN = fout(VN, var, stdv)\n",
    "dRN = fout(RN, var, stdv)\n",
    "dIN = fout(IN, var, stdv)\n",
    "display(dVN, dRN, dIN)\n",
    "#print(sp.latex(dIN))"
   ]
  },
  {
   "cell_type": "code",
   "execution_count": 7,
   "metadata": {},
   "outputs": [
    {
     "data": {
      "text/plain": [
       "'V_n: 1.00e+01 Volt, R_n: 8.33e+03 Ohm, I_n: 1.20e-03 Ampère'"
      ]
     },
     "metadata": {},
     "output_type": "display_data"
    },
    {
     "data": {
      "image/png": "[encoded data removed]",
      "text/latex": [
       "$$\\left [ 0.137436854187255, \\quad 55.8326423395605, \\quad 1.76363261480389 \\cdot 10^{-5}\\right ]$$"
      ],
      "text/plain": [
       "[0.137436854187255, 55.8326423395605, 1.76363261480389e-5]"
      ]
     },
     "metadata": {},
     "output_type": "display_data"
    }
   ],
   "source": [
    "# uitrekenen norton equivalenten\n",
    "# de waardes van de weerstanden\n",
    "waarde = [10e3, 5e3, 5e3, 30]\n",
    "# substitueer de waardes voor de symbolen\n",
    "sub = {var[i] : waarde[i] for i in range(4)}\n",
    "sub2 = {var[i] : waarde[i] for i in range(4)}\n",
    "sub2.update({stdv[i] : 0.01*waarde[i] for i in range(4)})\n",
    "# reken de equivalenten en hun fout uit\n",
    "display(\"V_n: %.2e Volt, R_n: %.2e Ohm, I_n: %.2e Ampère\" %(VN.subs(sub), RN.subs(sub), IN.subs(sub)))\n",
    "fouten = [dVN.subs(sub2), dRN.subs(sub2), dIN.subs(sub2)]\n",
    "display(fouten)"
   ]
  },
  {
   "cell_type": "code",
   "execution_count": 8,
   "metadata": {},
   "outputs": [
    {
     "data": {
      "image/png": "[encoded data removed]",
      "text/latex": [
       "$$\\left [ R_{TH}\\right ]$$"
      ],
      "text/plain": [
       "[R_TH]"
      ]
     },
     "execution_count": 8,
     "metadata": {},
     "output_type": "execute_result"
    }
   ],
   "source": [
    "# opgave rond impedance matching\n",
    "Rl, Pl, Rth = sp.symbols('R_L, P_L, R_TH')\n",
    "sp.solve(sp.diff(Rl/(Rl+Rth)**2, Rl), Rl)"
   ]
  },
  {
   "cell_type": "markdown",
   "metadata": {
    "heading_collapsed": true
   },
   "source": [
    "# practicum"
   ]
  },
  {
   "cell_type": "markdown",
   "metadata": {
    "hidden": true
   },
   "source": [
    "**Vraag 4 - theoretische waardes**"
   ]
  },
  {
   "cell_type": "code",
   "execution_count": 7,
   "metadata": {
    "hidden": true
   },
   "outputs": [
    {
     "data": {
      "image/png": "[encoded data removed]",
      "text/latex": [
       "$$\\left [ R_{C}, \\quad R_{D}, \\quad R_{E}, \\quad V_{T}\\right ]$$"
      ],
      "text/plain": [
       "[R_C, R_D, R_E, V_T]"
      ]
     },
     "metadata": {},
     "output_type": "display_data"
    }
   ],
   "source": [
    "display(var)"
   ]
  },
  {
   "cell_type": "code",
   "execution_count": 8,
   "metadata": {
    "hidden": true
   },
   "outputs": [
    {
     "data": {
      "text/plain": [
       "'V_n: 1.81e+00 Volt, R_n: 3.32e+03 Ohm, I_n: 5.44e-04 Ampère'"
      ]
     },
     "metadata": {},
     "output_type": "display_data"
    },
    {
     "data": {
      "image/png": "[encoded data removed]",
      "text/latex": [
       "$$\\left [ 0.0269836920874093, \\quad \\frac{24 \\sqrt{30786}}{169}, \\quad 8.9576127631357 \\cdot 10^{-6}\\right ]$$"
      ],
      "text/plain": [
       "⎡                    24⋅√30786                    ⎤\n",
       "⎢0.0269836920874093, ─────────, 8.9576127631357e-6⎥\n",
       "⎣                       169                       ⎦"
      ]
     },
     "metadata": {},
     "output_type": "display_data"
    }
   ],
   "source": [
    "waarde = [2400, 2400, 1500, 4.7]\n",
    "fouten = [24, 24, 15, 0.01+0.01*4.7]\n",
    "sub = {var[i] : waarde[i] for i in range(4)}\n",
    "sub.update({stdv[i] : fouten[i] for i in range(4)})\n",
    "display(\"V_n: %.2e Volt, R_n: %.2e Ohm, I_n: %.2e Ampère\" %(VN.subs(sub), RN.subs(sub), IN.subs(sub)))\n",
    "fouten = [dVN.subs(sub), dRN.subs(sub), dIN.subs(sub)]\n",
    "display(fouten)"
   ]
  },
  {
   "cell_type": "markdown",
   "metadata": {},
   "source": [
    "# dataverwerking"
   ]
  },
  {
   "cell_type": "markdown",
   "metadata": {
    "heading_collapsed": true
   },
   "source": [
    "## Importeren data"
   ]
  },
  {
   "cell_type": "code",
   "execution_count": 25,
   "metadata": {
    "hidden": true
   },
   "outputs": [],
   "source": [
    "data_1v1 = pd.read_csv('1.V1.txt', delimiter = '\\t')\n",
    "data_1v1 = data_1v1.sort_values('I [mA]')\n",
    "data_1v2 = pd.read_csv('1.V2.txt', delimiter = '\\t')\n",
    "data_1v2 = data_1v2.drop(6)\n",
    "data_1v2 = data_1v2.sort_values('I [mA]')\n",
    "data_2 = pd.read_csv('2.txt', delimiter = '\\t')\n",
    "data_4 = pd.read_csv('4.txt', delimiter = '\\t', header=None)\n",
    "data_311 = [0.2, 0, 0, -0.2]\n",
    "data_312 = [-10.2, 0.2, 0.2, 9.77]\n",
    "data_321 = [-4.5, 4.5]\n",
    "data_322 = [-0.33, -4.17, 4.5]\n",
    "data_323 = [-4.5, 0.06, -9.72, 10.19, -0.2, 4.17]"
   ]
  },
  {
   "cell_type": "markdown",
   "metadata": {
    "heading_collapsed": true
   },
   "source": [
    "## Opdracht 1"
   ]
  },
  {
   "cell_type": "code",
   "execution_count": 9,
   "metadata": {
    "hidden": true
   },
   "outputs": [
    {
     "data": {
      "image/png": "[encoded data removed]",
      "text/latex": [
       "$$\\sqrt{\\frac{S_{V0}^{2}}{I^{2}} + \\frac{S_{Vg}^{2}}{I^{2}} + \\frac{S_{I}^{2} \\left(V_{0} - V_{g}\\right)^{2}}{I^{4}}}$$"
      ],
      "text/plain": [
       "      __________________________________\n",
       "     ╱     2       2      2           2 \n",
       "    ╱  S_V0    S_Vg    S_I ⋅(V₀ - V_g)  \n",
       "   ╱   ───── + ───── + ──────────────── \n",
       "  ╱       2       2            4        \n",
       "╲╱       I       I            I         "
      ]
     },
     "metadata": {},
     "output_type": "display_data"
    },
    {
     "name": "stdout",
     "output_type": "stream",
     "text": [
      "\\sqrt{\\frac{S_{V0}^{2}}{I^{2}} + \\frac{S_{Vg}^{2}}{I^{2}} + \\frac{S_{I}^{2} \\left(V_{0} - V_{g}\\right)^{2}}{I^{4}}}\n"
     ]
    }
   ],
   "source": [
    "# de formule om de inwendige weerstand te berekenen\n",
    "V0, Vg, I = sp.symbols('V_0, V_g, I')\n",
    "Rv = (V0-Vg)/I\n",
    "variables = [V0, Vg, I]\n",
    "dV0, dVg, dI = sp.symbols('S_V0, S_Vg, S_I')\n",
    "deviations = [dV0, dVg, dI]\n",
    "# formule voor bereken de fout op de berekende weerstand\n",
    "dRv = fout(Rv, variables, deviations)\n",
    "display(dRv)\n",
    "print(sp.latex(dRv))"
   ]
  },
  {
   "cell_type": "markdown",
   "metadata": {
    "heading_collapsed": true,
    "hidden": true
   },
   "source": [
    "### Spanningsbron 1"
   ]
  },
  {
   "cell_type": "code",
   "execution_count": 10,
   "metadata": {
    "hidden": true
   },
   "outputs": [],
   "source": [
    "# initialiseren arrays om resultaten en fouten uit te rekenen\n",
    "v0 = np.ones_like(data_1v1['I [mA]'])*4.72\n",
    "dv0 = np.ones_like(data_1v1['I [mA]'])*0.06\n",
    "symbols = variables + deviations\n",
    "# deel waardes stroom door 1000 - staan nog in mA; deel de fouten door sqrt(12) om uniforme fout om te zetten in standaardafwijkingen\n",
    "correc = np.sqrt(12)\n",
    "values = [v0, data_1v1['Vg'].values, data_1v1['I [mA]'].values/(1000),dv0/correc, data_1v1['fout.1'].values/correc, data_1v1['fout'].values/(1000*correc)]\n",
    "\n",
    "# berekenen waardes en fouten\n",
    "interne_weerstand = sp.lambdify(variables, Rv, 'numpy')(*values[0:3])\n",
    "fout_interne_weerstand = sp.lambdify(symbols, dRv, 'numpy')(*values)"
   ]
  },
  {
   "cell_type": "markdown",
   "metadata": {
    "hidden": true
   },
   "source": [
    "**Genereer latex tabellen met de data**"
   ]
  },
  {
   "cell_type": "code",
   "execution_count": 11,
   "metadata": {
    "hidden": true
   },
   "outputs": [
    {
     "name": "stdout",
     "output_type": "stream",
     "text": [
      "\\begin{tabular}{lrrrr}\n",
      "\\toprule\n",
      "{} &  I [mA] &  fout I &   V\\_g &  fout Vg \\\\\n",
      "\\midrule\n",
      "4 &    0.65 &    0.02 &  4.71 &     0.06 \\\\\n",
      "3 &    0.71 &    0.02 &  4.71 &     0.06 \\\\\n",
      "2 &    0.81 &    0.02 &  4.71 &     0.06 \\\\\n",
      "1 &    1.17 &    0.02 &  4.70 &     0.06 \\\\\n",
      "0 &    1.65 &    0.03 &  4.69 &     0.06 \\\\\n",
      "6 &    2.62 &    0.04 &  4.67 &     0.06 \\\\\n",
      "5 &    3.89 &    0.05 &  4.64 &     0.06 \\\\\n",
      "7 &    5.66 &    0.07 &  4.61 &     0.06 \\\\\n",
      "8 &    8.07 &    0.09 &  4.56 &     0.06 \\\\\n",
      "\\bottomrule\n",
      "\\end{tabular}\n",
      "\n"
     ]
    }
   ],
   "source": [
    "# data van de metingen\n",
    "d = {'I [mA]' : data_1v1['I [mA]'], 'fout I' : data_1v1['fout'], 'V_g' : data_1v1['Vg'], 'fout Vg' : data_1v1['fout.1']}\n",
    "df = pd.DataFrame(d)\n",
    "df = df.round(2)\n",
    "print(df.to_latex())"
   ]
  },
  {
   "cell_type": "code",
   "execution_count": 12,
   "metadata": {
    "hidden": true,
    "scrolled": true
   },
   "outputs": [
    {
     "name": "stdout",
     "output_type": "stream",
     "text": [
      "\\begin{tabular}{lrrr}\n",
      "\\toprule\n",
      "{} &  I [mA] &  Interne weerstand &  fout \\\\\n",
      "\\midrule\n",
      "4 &    0.65 &               15.0 &  38.0 \\\\\n",
      "3 &    0.71 &               14.0 &  35.0 \\\\\n",
      "2 &    0.81 &               12.0 &  30.0 \\\\\n",
      "1 &    1.17 &               17.0 &  21.0 \\\\\n",
      "0 &    1.65 &               18.0 &  15.0 \\\\\n",
      "6 &    2.62 &               19.0 &   9.0 \\\\\n",
      "5 &    3.89 &               21.0 &   6.0 \\\\\n",
      "7 &    5.66 &               19.0 &   4.0 \\\\\n",
      "8 &    8.07 &               20.0 &   3.0 \\\\\n",
      "\\bottomrule\n",
      "\\end{tabular}\n",
      "\n"
     ]
    }
   ],
   "source": [
    "# de berekende waarden en de strooom erbij\n",
    "d = {'I [mA]' : data_1v1['I [mA]'], 'Interne weerstand' : interne_weerstand, 'fout' : fout_interne_weerstand}\n",
    "df = pd.DataFrame(d)\n",
    "df = df.round({'I [mA]' : 2, 'Interne weerstand' : 0, 'fout' : 0})\n",
    "print(df.to_latex())"
   ]
  },
  {
   "cell_type": "markdown",
   "metadata": {
    "hidden": true
   },
   "source": [
    "**bereken het gemiddelde en de standdaardeviatie, gewoon en met een gewogen gemiddelde**"
   ]
  },
  {
   "cell_type": "code",
   "execution_count": 13,
   "metadata": {
    "hidden": true
   },
   "outputs": [
    {
     "name": "stdout",
     "output_type": "stream",
     "text": [
      "gemiddelde interne weerstand: 17 \n",
      " standaarddeviatie: 3\n"
     ]
    },
    {
     "data": {
      "image/png": "[encoded data removed]",
      "text/latex": [
       "$$19.63128211775825$$"
      ],
      "text/plain": [
       "19.63128211775825"
      ]
     },
     "metadata": {},
     "output_type": "display_data"
    },
    {
     "data": {
      "image/png": "[encoded data removed]",
      "text/latex": [
       "$$2.192722784705611$$"
      ],
      "text/plain": [
       "2.192722784705611"
      ]
     },
     "metadata": {},
     "output_type": "display_data"
    }
   ],
   "source": [
    "gemiddelde = interne_weerstand.mean()\n",
    "stdv = interne_weerstand.std()\n",
    "print('gemiddelde interne weerstand: %.0f \\n standaarddeviatie: %0.f' %(gemiddelde, stdv))\n",
    "G = 1/fout_interne_weerstand**2\n",
    "R = interne_weerstand\n",
    "R_i = np.dot(R, G)/np.sum(G)\n",
    "display(R_i)\n",
    "eps = 1/np.sqrt(np.sum(G))\n",
    "display(eps)"
   ]
  },
  {
   "cell_type": "markdown",
   "metadata": {
    "heading_collapsed": true,
    "hidden": true
   },
   "source": [
    "### Spanningsbron 2"
   ]
  },
  {
   "cell_type": "code",
   "execution_count": 14,
   "metadata": {
    "hidden": true
   },
   "outputs": [],
   "source": [
    "# initialiseren arrays om resultaten en fouten uit te rekenen\n",
    "v0 = np.ones_like(data_1v2['I [mA]'])*11.18\n",
    "dv0 = np.ones_like(data_1v2['I [mA]'])*0.12\n",
    "symbols = variables + deviations\n",
    "# deel waardes stroom door 1000 - staan nog in mA\n",
    "values = [v0, data_1v2['Vg'].values, data_1v2['I [mA]'].values/1000,dv0/correc, data_1v2['fout.1'].values/correc, data_1v2['fout'].values/(1000*correc)]\n",
    "\n",
    "# berekenen waardes en fouten\n",
    "interne_weerstand = sp.lambdify(variables, Rv, 'numpy')(*values[0:3])\n",
    "fout_interne_weerstand = sp.lambdify(symbols, dRv, 'numpy')(*values)"
   ]
  },
  {
   "cell_type": "markdown",
   "metadata": {
    "hidden": true
   },
   "source": [
    "**Genereer latex tabellen met de data**"
   ]
  },
  {
   "cell_type": "code",
   "execution_count": 15,
   "metadata": {
    "hidden": true
   },
   "outputs": [
    {
     "name": "stdout",
     "output_type": "stream",
     "text": [
      "\\begin{tabular}{lrrrr}\n",
      "\\toprule\n",
      "{} &  I [mA] &  fout I &    V\\_g &  fout Vg \\\\\n",
      "\\midrule\n",
      "0 &    1.55 &    0.03 &  11.09 &     0.12 \\\\\n",
      "1 &    1.68 &    0.03 &  11.08 &     0.12 \\\\\n",
      "2 &    1.91 &    0.03 &  11.07 &     0.12 \\\\\n",
      "3 &    2.39 &    0.03 &  11.04 &     0.12 \\\\\n",
      "4 &    3.85 &    0.05 &  10.96 &     0.12 \\\\\n",
      "5 &    6.07 &    0.07 &  10.83 &     0.12 \\\\\n",
      "8 &    8.95 &    0.10 &  10.67 &     0.12 \\\\\n",
      "7 &   12.85 &    0.14 &  10.45 &     0.11 \\\\\n",
      "\\bottomrule\n",
      "\\end{tabular}\n",
      "\n"
     ]
    }
   ],
   "source": [
    "# data van de metingen\n",
    "d = {'I [mA]' : data_1v2['I [mA]'], 'fout I' : data_1v2['fout'], 'V_g' : data_1v2['Vg'], 'fout Vg' : data_1v2['fout.1']}\n",
    "df = pd.DataFrame(d)\n",
    "df = df.round(2)\n",
    "print(df.to_latex())"
   ]
  },
  {
   "cell_type": "code",
   "execution_count": 16,
   "metadata": {
    "hidden": true
   },
   "outputs": [
    {
     "name": "stdout",
     "output_type": "stream",
     "text": [
      "\\begin{tabular}{lrrr}\n",
      "\\toprule\n",
      "{} &  I [mA] &  Interne weerstand &  fout \\\\\n",
      "\\midrule\n",
      "0 &    1.55 &               58.0 &  32.0 \\\\\n",
      "1 &    1.68 &               60.0 &  29.0 \\\\\n",
      "2 &    1.91 &               58.0 &  26.0 \\\\\n",
      "3 &    2.39 &               59.0 &  20.0 \\\\\n",
      "4 &    3.85 &               57.0 &  13.0 \\\\\n",
      "5 &    6.07 &               58.0 &   8.0 \\\\\n",
      "8 &    8.95 &               57.0 &   5.0 \\\\\n",
      "7 &   12.85 &               57.0 &   4.0 \\\\\n",
      "\\bottomrule\n",
      "\\end{tabular}\n",
      "\n"
     ]
    }
   ],
   "source": [
    "# de berekende waarden en de strooom erbij\n",
    "d = {'I [mA]' : data_1v2['I [mA]'], 'Interne weerstand' : interne_weerstand, 'fout' : fout_interne_weerstand}\n",
    "df = pd.DataFrame(d)\n",
    "df = df.round({'I [mA]' : 2, 'Interne weerstand' : 0, 'fout' : 0})\n",
    "print(df.to_latex())"
   ]
  },
  {
   "cell_type": "code",
   "execution_count": 17,
   "metadata": {
    "hidden": true
   },
   "outputs": [
    {
     "name": "stdout",
     "output_type": "stream",
     "text": [
      "gemiddelde interne weerstand: 58 \n",
      " standaarddeviatie: 1\n"
     ]
    },
    {
     "data": {
      "image/png": "[encoded data removed]",
      "text/latex": [
       "$$57.03632866943364$$"
      ],
      "text/plain": [
       "57.03632866943364"
      ]
     },
     "metadata": {},
     "output_type": "display_data"
    },
    {
     "data": {
      "image/png": "[encoded data removed]",
      "text/latex": [
       "$$2.7163586890807645$$"
      ],
      "text/plain": [
       "2.7163586890807645"
      ]
     },
     "metadata": {},
     "output_type": "display_data"
    }
   ],
   "source": [
    "gemiddelde = interne_weerstand.mean()\n",
    "stdv = interne_weerstand.std()\n",
    "print('gemiddelde interne weerstand: %.0f \\n standaarddeviatie: %0.f' %(gemiddelde, stdv))\n",
    "G = 1/fout_interne_weerstand**2\n",
    "R = interne_weerstand\n",
    "R_i = np.dot(R, G)/np.sum(G)\n",
    "display(R_i)\n",
    "eps = 1/np.sqrt(np.sum(G))\n",
    "display(eps)"
   ]
  },
  {
   "cell_type": "markdown",
   "metadata": {
    "heading_collapsed": true
   },
   "source": [
    "## Opdracht 2"
   ]
  },
  {
   "cell_type": "code",
   "execution_count": 18,
   "metadata": {
    "hidden": true
   },
   "outputs": [
    {
     "name": "stdout",
     "output_type": "stream",
     "text": [
      "\\sqrt{S_{R}^{2} \\left(-1 + \\frac{I_{t}}{I_{a}}\\right)^{2} + \\frac{R^{2} S_{It}^{2}}{I_{a}^{2}} + \\frac{I_{t}^{2} R^{2} S_{Ia}^{2}}{I_{a}^{4}}}\n"
     ]
    }
   ],
   "source": [
    "# initialiseer symbolen en formules\n",
    "It, Ia, R = sp.symbols('I_t, I_a, R')\n",
    "Ra = It*R/Ia-R\n",
    "SIt, SIa, SR = sp.symbols('S_It, S_Ia, S_R')\n",
    "sym = [It, Ia, R]\n",
    "stdv = [SIt, SIa, SR]\n",
    "SRa = fout(Ra, sym, stdv)\n",
    "print(sp.latex(SRa))"
   ]
  },
  {
   "cell_type": "code",
   "execution_count": 19,
   "metadata": {
    "hidden": true
   },
   "outputs": [],
   "source": [
    "# verwijder overbodige kolommen\n",
    "data_2 = data_2.drop(['weerstand', 'verhouding'], axis=1)"
   ]
  },
  {
   "cell_type": "code",
   "execution_count": 20,
   "metadata": {
    "hidden": true
   },
   "outputs": [
    {
     "data": {
      "text/html": [
       "<div>\n",
       "<style scoped>\n",
       "    .dataframe tbody tr th:only-of-type {\n",
       "        vertical-align: middle;\n",
       "    }\n",
       "\n",
       "    .dataframe tbody tr th {\n",
       "        vertical-align: top;\n",
       "    }\n",
       "\n",
       "    .dataframe thead th {\n",
       "        text-align: right;\n",
       "    }\n",
       "</style>\n",
       "<table border=\"1\" class=\"dataframe\">\n",
       "  <thead>\n",
       "    <tr style=\"text-align: right;\">\n",
       "      <th></th>\n",
       "      <th>stroom 1 [mA]</th>\n",
       "      <th>stroom2</th>\n",
       "      <th>interne weerstand</th>\n",
       "      <th>afwijking</th>\n",
       "    </tr>\n",
       "  </thead>\n",
       "  <tbody>\n",
       "    <tr>\n",
       "      <th>0</th>\n",
       "      <td>2.62</td>\n",
       "      <td>1.44</td>\n",
       "      <td>8.194444</td>\n",
       "      <td>0.406149</td>\n",
       "    </tr>\n",
       "    <tr>\n",
       "      <th>1</th>\n",
       "      <td>8.07</td>\n",
       "      <td>4.46</td>\n",
       "      <td>8.094170</td>\n",
       "      <td>0.311409</td>\n",
       "    </tr>\n",
       "    <tr>\n",
       "      <th>2</th>\n",
       "      <td>1.65</td>\n",
       "      <td>0.90</td>\n",
       "      <td>8.333333</td>\n",
       "      <td>0.493396</td>\n",
       "    </tr>\n",
       "  </tbody>\n",
       "</table>\n",
       "</div>"
      ],
      "text/plain": [
       "   stroom 1 [mA]  stroom2  interne weerstand  afwijking\n",
       "0           2.62     1.44           8.194444   0.406149\n",
       "1           8.07     4.46           8.094170   0.311409\n",
       "2           1.65     0.90           8.333333   0.493396"
      ]
     },
     "execution_count": 20,
     "metadata": {},
     "output_type": "execute_result"
    }
   ],
   "source": [
    "# bereken de interne weerstand en afwijking, voeg dit toe aan het dataFrame\n",
    "waardes = [data_2['stroom 1 [mA]'], data_2['stroom2'], np.ones_like(data_2['stroom2'])*10]\n",
    "fouten = [data_2['stroom 1 [mA]']*0.01+0.01, data_2['stroom2']*0.01+0.01, 0.1]\n",
    "intern = sp.lambdify(sym, Ra, 'numpy')(*waardes)\n",
    "afwijking = sp.lambdify(sym+stdv, SRa, 'numpy')(*waardes, *fouten)\n",
    "data_2.loc[:, 'interne weerstand'] = intern\n",
    "data_2.loc[:, 'afwijking'] = afwijking\n",
    "data_2"
   ]
  },
  {
   "cell_type": "code",
   "execution_count": 21,
   "metadata": {
    "hidden": true
   },
   "outputs": [
    {
     "name": "stdout",
     "output_type": "stream",
     "text": [
      "\\begin{tabular}{lrrrr}\n",
      "\\toprule\n",
      "{} &  stroom 1 [mA] &  stroom2 &  interne weerstand &  afwijking \\\\\n",
      "\\midrule\n",
      "0 &           2.62 &     1.44 &                8.2 &        0.4 \\\\\n",
      "1 &           8.07 &     4.46 &                8.1 &        0.3 \\\\\n",
      "2 &           1.65 &     0.90 &                8.3 &        0.5 \\\\\n",
      "\\bottomrule\n",
      "\\end{tabular}\n",
      "\n"
     ]
    },
    {
     "data": {
      "text/plain": [
       "[0    0.0362\n",
       " 1    0.0907\n",
       " 2    0.0265\n",
       " Name: stroom 1 [mA], dtype: float64, 0    0.0244\n",
       " 1    0.0546\n",
       " 2    0.0190\n",
       " Name: stroom2, dtype: float64, 0.1]"
      ]
     },
     "metadata": {},
     "output_type": "display_data"
    }
   ],
   "source": [
    "# zet het dataFrame om naar een latex tabel\n",
    "data_2 = data_2.round({'interne weerstand' : 1, 'afwijking' : 1})\n",
    "print(data_2.to_latex())\n",
    "display(fouten)"
   ]
  },
  {
   "cell_type": "code",
   "execution_count": 22,
   "metadata": {
    "hidden": true
   },
   "outputs": [
    {
     "name": "stdout",
     "output_type": "stream",
     "text": [
      "gemiddelde interne weerstand: 8.21 \n",
      " standaarddeviatie: 0.12\n"
     ]
    },
    {
     "data": {
      "image/png": "[encoded data removed]",
      "text/latex": [
       "$$8.171815316308455$$"
      ],
      "text/plain": [
       "8.171815316308455"
      ]
     },
     "metadata": {},
     "output_type": "display_data"
    },
    {
     "data": {
      "image/png": "[encoded data removed]",
      "text/latex": [
       "$$0.22096083001090455$$"
      ],
      "text/plain": [
       "0.22096083001090455"
      ]
     },
     "metadata": {},
     "output_type": "display_data"
    }
   ],
   "source": [
    "# bereken het gemmidelde en de standaarddeviatie op de normale manier en via een gewogen gemiddelde\n",
    "gemiddelde = intern.mean()\n",
    "stdv = intern.std()\n",
    "print('gemiddelde interne weerstand: %.2f \\n standaarddeviatie: %.2f' %(gemiddelde, stdv))\n",
    "G = 1/afwijking**2\n",
    "R = intern\n",
    "R_i = np.dot(R, G)/np.sum(G)\n",
    "display(R_i)\n",
    "eps = 1/np.sqrt(np.sum(G))\n",
    "display(eps)"
   ]
  },
  {
   "cell_type": "markdown",
   "metadata": {
    "heading_collapsed": true
   },
   "source": [
    "## Opdracht 3"
   ]
  },
  {
   "cell_type": "code",
   "execution_count": 23,
   "metadata": {
    "hidden": true
   },
   "outputs": [
    {
     "data": {
      "image/png": "[encoded data removed]",
      "text/latex": [
       "$$0.0034641016151377548$$"
      ],
      "text/plain": [
       "0.0034641016151377548"
      ]
     },
     "execution_count": 23,
     "metadata": {},
     "output_type": "execute_result"
    }
   ],
   "source": [
    "0.012/np.sqrt(12)"
   ]
  },
  {
   "cell_type": "markdown",
   "metadata": {},
   "source": [
    "## Opdracht 4"
   ]
  },
  {
   "cell_type": "code",
   "execution_count": 30,
   "metadata": {},
   "outputs": [
    {
     "data": {
      "text/html": [
       "<div>\n",
       "<style scoped>\n",
       "    .dataframe tbody tr th:only-of-type {\n",
       "        vertical-align: middle;\n",
       "    }\n",
       "\n",
       "    .dataframe tbody tr th {\n",
       "        vertical-align: top;\n",
       "    }\n",
       "\n",
       "    .dataframe thead th {\n",
       "        text-align: right;\n",
       "    }\n",
       "</style>\n",
       "<table border=\"1\" class=\"dataframe\">\n",
       "  <thead>\n",
       "    <tr style=\"text-align: right;\">\n",
       "      <th></th>\n",
       "      <th>1</th>\n",
       "      <th>3</th>\n",
       "    </tr>\n",
       "    <tr>\n",
       "      <th>0</th>\n",
       "      <th></th>\n",
       "      <th></th>\n",
       "    </tr>\n",
       "  </thead>\n",
       "  <tbody>\n",
       "    <tr>\n",
       "      <th>Rc</th>\n",
       "      <td>2400.00</td>\n",
       "      <td>2400.00</td>\n",
       "    </tr>\n",
       "    <tr>\n",
       "      <th>RD</th>\n",
       "      <td>1500.00</td>\n",
       "      <td>2400.00</td>\n",
       "    </tr>\n",
       "    <tr>\n",
       "      <th>RE</th>\n",
       "      <td>1500.00</td>\n",
       "      <td>1500.00</td>\n",
       "    </tr>\n",
       "    <tr>\n",
       "      <th>V</th>\n",
       "      <td>1.80</td>\n",
       "      <td>1.80</td>\n",
       "    </tr>\n",
       "    <tr>\n",
       "      <th>I</th>\n",
       "      <td>0.63</td>\n",
       "      <td>0.46</td>\n",
       "    </tr>\n",
       "  </tbody>\n",
       "</table>\n",
       "</div>"
      ],
      "text/plain": [
       "          1        3\n",
       "0                   \n",
       "Rc  2400.00  2400.00\n",
       "RD  1500.00  2400.00\n",
       "RE  1500.00  1500.00\n",
       "V      1.80     1.80\n",
       "I      0.63     0.46"
      ]
     },
     "execution_count": 30,
     "metadata": {},
     "output_type": "execute_result"
    }
   ],
   "source": [
    "data_4 = data_4.set_index(0)\n",
    "data_4 = data_4.drop(2, axis=1)\n",
    "data_4"
   ]
  },
  {
   "cell_type": "code",
   "execution_count": 68,
   "metadata": {},
   "outputs": [],
   "source": [
    "# initialiseren symbolen en in lijsten zetten om eenvoudig te refereren\n",
    "Rc, Rd, Re, Rn, Vt, Vn, In = sp.symbols('R_1, R_3, R_2, R_n, V_T, V_n, I_n')\n",
    "dRc, dRd, dRe, dVt = sp.symbols('S_R1, S_R3, S_R2, S_VT')\n",
    "var = [Rc, Rd, Re, Vt]\n",
    "stdv = [dRc, dRd, dRe, dVt]"
   ]
  },
  {
   "cell_type": "code",
   "execution_count": 69,
   "metadata": {},
   "outputs": [
    {
     "name": "stdout",
     "output_type": "stream",
     "text": [
      "\\frac{R_{2} V_{T}}{\\left(R_{1} + R_{2}\\right) \\left(\\frac{R_{1} R_{2}}{R_{1} + R_{2}} + R_{3}\\right)}\n"
     ]
    }
   ],
   "source": [
    "# formules voor V_n, R_N en I_N\n",
    "VN = Vt*Re/(Re+Rc)\n",
    "RN = Rd + Rc*Re/(Re+Rc)\n",
    "IN = VN / RN\n",
    "#display(VN, RN, IN)\n",
    "print(sp.latex(IN))"
   ]
  },
  {
   "cell_type": "code",
   "execution_count": 71,
   "metadata": {},
   "outputs": [
    {
     "name": "stdout",
     "output_type": "stream",
     "text": [
      "\\frac{R_{2}^{2} S_{R1}^{2} V_{T}^{2}}{\\left(R_{1} + R_{2}\\right)^{4}} + \\frac{R_{2}^{2} S_{VT}^{2}}{\\left(R_{1} + R_{2}\\right)^{2}} + S_{R2}^{2} \\left(- \\frac{R_{2} V_{T}}{\\left(R_{1} + R_{2}\\right)^{2}} + \\frac{V_{T}}{R_{1} + R_{2}}\\right)^{2}\n"
     ]
    }
   ],
   "source": [
    "# bereken de fouten op deze uitdrukkingen\n",
    "\n",
    "dVN = fout(VN, var, stdv)\n",
    "dRN = fout(RN, var, stdv)\n",
    "dIN = fout(IN, var, stdv)\n",
    "#display(dVN, dRN, dIN)\n",
    "print(sp.latex(dVN**2))"
   ]
  },
  {
   "cell_type": "code",
   "execution_count": 79,
   "metadata": {},
   "outputs": [
    {
     "name": "stdout",
     "output_type": "stream",
     "text": [
      "theoretischen nortonstroom: 0.746 +- 0.012 mA\n",
      " theorethische nortonspanning: 1.81 +- 0.03 V\n",
      "2423.08 +- 16.43\n"
     ]
    }
   ],
   "source": [
    "# bereken de theoretische waarden en de fouten hierop voor het eerste circuit\n",
    "waarden = data_4[1].values\n",
    "waarden = waarden[:4]\n",
    "waarden[3] = 4.7\n",
    "fouten = 0.01*waarden\n",
    "fouten[3] += 0.01\n",
    "#print(waarden, fouten)\n",
    "norton_stroom = sp.lambdify(var, IN, 'numpy')(*waarden)\n",
    "norton_spanning = sp.lambdify(var, VN, 'numpy')(*waarden)\n",
    "weerstand = sp.lambdify(var, RN, 'numpy')(*waarden)\n",
    "Sn_stroom = sp.lambdify(var+stdv, dIN, 'numpy')(*waarden, *fouten)\n",
    "Sn_spanning = sp.lambdify(var+stdv, dVN, 'numpy')(*waarden, *fouten)\n",
    "S_weerstand = sp.lambdify(var+stdv, dRN, 'numpy')(*waarden, *fouten)\n",
    "print('theoretischen nortonstroom: %.3f +- %.3f mA\\n theorethische nortonspanning: %.2f +- %.2f V' %(norton_stroom*1000, Sn_stroom*1000, norton_spanning, Sn_spanning))\n",
    "print('%.2f +- %.2f' %(weerstand, S_weerstand))"
   ]
  },
  {
   "cell_type": "code",
   "execution_count": 78,
   "metadata": {},
   "outputs": [
    {
     "name": "stdout",
     "output_type": "stream",
     "text": [
      "theoretischen nortonstroom: 0.544 +- 0.009 mA\n",
      " theorethisce nortonspanning: 1.81 +- 0.03 V\n",
      "3323.08 +- 24.92\n"
     ]
    }
   ],
   "source": [
    "# bereken de theoretische waarden en de fouten hierop voor het tweede circuit\n",
    "waarden = data_4[3].values\n",
    "waarden = waarden[:4]\n",
    "waarden[3] = 4.7\n",
    "fouten = 0.01*waarden\n",
    "fouten[3] += 0.01\n",
    "#print(waarden, fouten)\n",
    "norton_stroom = sp.lambdify(var, IN, 'numpy')(*waarden)\n",
    "norton_spanning = sp.lambdify(var, VN, 'numpy')(*waarden)\n",
    "weerstand = sp.lambdify(var, RN, 'numpy')(*waarden)\n",
    "Sn_stroom = sp.lambdify(var+stdv, dIN, 'numpy')(*waarden, *fouten)\n",
    "Sn_spanning = sp.lambdify(var+stdv, dVN, 'numpy')(*waarden, *fouten)\n",
    "S_weerstand = sp.lambdify(var+stdv, dRN, 'numpy')(*waarden, *fouten)\n",
    "print('theoretischen nortonstroom: %.3f +- %.3f mA\\n theorethisce nortonspanning: %.2f +- %.2f V' %(norton_stroom*1000, Sn_stroom*1000, norton_spanning, Sn_spanning))\n",
    "print('%.2f +- %.2f' %(weerstand, S_weerstand))"
   ]
  },
  {
   "cell_type": "code",
   "execution_count": 73,
   "metadata": {},
   "outputs": [
    {
     "name": "stdout",
     "output_type": "stream",
     "text": [
      "\\begin{tabular}{lrrrrr}\n",
      "\\toprule\n",
      "0 &      Rc &      RD &      RE &    V &     I \\\\\n",
      "\\midrule\n",
      "1 &  2400.0 &  1500.0 &  1500.0 &  4.7 &  0.63 \\\\\n",
      "3 &  2400.0 &  2400.0 &  1500.0 &  4.7 &  0.46 \\\\\n",
      "\\bottomrule\n",
      "\\end{tabular}\n",
      "\n"
     ]
    }
   ],
   "source": [
    "print(data_4.transpose().to_latex())"
   ]
  },
  {
   "cell_type": "code",
   "execution_count": 76,
   "metadata": {},
   "outputs": [
    {
     "name": "stdout",
     "output_type": "stream",
     "text": [
      "\\begin{tabular}{lrrrr}\n",
      "\\toprule\n",
      "{} &      0 &      1 &     2 &     3 \\\\\n",
      "\\midrule\n",
      "0 &  0.746 &  0.012 &  1.81 &  0.03 \\\\\n",
      "1 &  0.544 &  0.009 &  1.81 &  0.03 \\\\\n",
      "\\bottomrule\n",
      "\\end{tabular}\n",
      "\n"
     ]
    }
   ],
   "source": [
    "a1 = [0.746, 0.544]\n",
    "a2 = [0.012, 0.009]\n",
    "a3 = [1.81, 1.81]\n",
    "a4 = [0.03, 0.03]\n",
    "df = pd.DataFrame([a1, a2, a3, a4])\n",
    "print(df.transpose().to_latex())"
   ]
  }
 ],
 "metadata": {
  "kernelspec": {
   "display_name": "Python 3",
   "language": "python",
   "name": "python3"
  },
  "language_info": {
   "codemirror_mode": {
    "name": "ipython",
    "version": 3
   },
   "file_extension": ".py",
   "mimetype": "text/x-python",
   "name": "python",
   "nbconvert_exporter": "python",
   "pygments_lexer": "ipython3",
   "version": "3.6.5"
  }
 },
 "nbformat": 4,
 "nbformat_minor": 2
}
