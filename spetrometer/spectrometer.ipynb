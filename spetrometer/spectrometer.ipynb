{
 "cells": [
  {
   "cell_type": "markdown",
   "metadata": {
    "toc-hr-collapsed": false
   },
   "source": [
    "# De spectrometer"
   ]
  },
  {
   "cell_type": "markdown",
   "metadata": {},
   "source": [
    "## Import packages"
   ]
  },
  {
   "cell_type": "code",
   "execution_count": 1,
   "metadata": {},
   "outputs": [],
   "source": [
    "import numpy as np\n",
    "import sympy as sp\n",
    "import matplotlib as mpl\n",
    "import matplotlib.pyplot as plt\n",
    "import pandas as pd\n",
    "import math\n",
    "import scipy.optimize as opt\n",
    "\n",
    "sp.init_printing()"
   ]
  },
  {
   "cell_type": "code",
   "execution_count": 2,
   "metadata": {},
   "outputs": [],
   "source": [
    "# interactieve plots in jupyter lab - niet runnen als je de extensie niet hebt!\n",
    "#%matplotlib widget"
   ]
  },
  {
   "cell_type": "markdown",
   "metadata": {},
   "source": [
    "## hulpfuncties"
   ]
  },
  {
   "cell_type": "code",
   "execution_count": 3,
   "metadata": {},
   "outputs": [],
   "source": [
    "def DMS_to_rad(dd, mm, ss=0):\n",
    "    degrees = dd + mm/60 + ss/3600\n",
    "    return np.radians(degrees)\n",
    "\n",
    "def error(function, variables, deviations):\n",
    "    return sp.sqrt(sum([sp.diff(function, variables[i])**2 * deviations[i]**2 for i in range(len(variables))]))\n"
   ]
  },
  {
   "cell_type": "markdown",
   "metadata": {
    "toc-hr-collapsed": false
   },
   "source": [
    "## Analoge spectrometer"
   ]
  },
  {
   "cell_type": "markdown",
   "metadata": {},
   "source": [
    "### Voorbereidende opgaves"
   ]
  },
  {
   "cell_type": "code",
   "execution_count": 4,
   "metadata": {},
   "outputs": [
    {
     "data": {
      "image/png": "[encoded data removed]",
      "text/latex": [
       "$$\\frac{\\sin{\\left (\\frac{\\alpha}{2} + \\frac{\\delta_{m}}{2} \\right )}}{\\sin{\\left (\\frac{\\alpha}{2} \\right )}}$$"
      ],
      "text/plain": [
       "   ⎛α   δₘ⎞\n",
       "sin⎜─ + ──⎟\n",
       "   ⎝2   2 ⎠\n",
       "───────────\n",
       "      ⎛α⎞  \n",
       "   sin⎜─⎟  \n",
       "      ⎝2⎠  "
      ]
     },
     "metadata": {},
     "output_type": "display_data"
    }
   ],
   "source": [
    "# variabelen voor functie\n",
    "lam, delta, alfa = sp.symbols('lambda, delta_m, alpha')\n",
    "# standaardafwijkingen op deze variabelen\n",
    "dlam, ddelta, dalfa = sp.symbols('S_lambda, S_delta, S_alpha')\n",
    "# functie die brekingsindex geeft in functie dispersie en opening\n",
    "n = sp.sin((delta + alfa)/2)/sp.sin(alfa/2)\n",
    "display(n)"
   ]
  },
  {
   "cell_type": "code",
   "execution_count": 5,
   "metadata": {},
   "outputs": [
    {
     "data": {
      "image/png": "[encoded data removed]",
      "text/latex": [
       "$$1.48036035728989$$"
      ],
      "text/plain": [
       "1.48036035728989"
      ]
     },
     "metadata": {},
     "output_type": "display_data"
    },
    {
     "data": {
      "image/png": "[encoded data removed]",
      "text/latex": [
       "$$0.00245851421680444$$"
      ],
      "text/plain": [
       "0.00245851421680444"
      ]
     },
     "metadata": {},
     "output_type": "display_data"
    }
   ],
   "source": [
    "# gegeven waardes voor de hoeken\n",
    "ALFA = DMS_to_rad(60, 18, 0)\n",
    "S_ALFA = DMS_to_rad(0, 10, 0)/np.sqrt(3)\n",
    "DELTA = DMS_to_rad(35, 46, 0)\n",
    "S_DELTA = DMS_to_rad(0, 20, 0)/np.sqrt(3)\n",
    "# bereken de waarde van n:\n",
    "N = n.subs({alfa : ALFA, delta : DELTA})\n",
    "display(N)\n",
    "# bereken de fout op N\n",
    "dn = error(n, [alfa, delta], [dalfa, ddelta])\n",
    "DN = dn.subs({alfa : ALFA, delta : DELTA, dalfa : S_ALFA, ddelta : S_DELTA})\n",
    "display(DN)"
   ]
  },
  {
   "cell_type": "code",
   "execution_count": 6,
   "metadata": {},
   "outputs": [
    {
     "data": {
      "image/png": "[encoded data removed]",
      "text/latex": [
       "$$\\frac{\\sqrt{\\frac{S_{\\alpha}^{2} \\sin^{2}{\\left (\\frac{\\delta_{m}}{2} \\right )} + S_{\\delta}^{2} \\sin^{2}{\\left (\\frac{\\alpha}{2} \\right )} \\cos^{2}{\\left (\\frac{\\alpha}{2} + \\frac{\\delta_{m}}{2} \\right )}}{\\sin^{4}{\\left (\\frac{\\alpha}{2} \\right )}}}}{2}$$"
      ],
      "text/plain": [
       "        ______________________________________________\n",
       "       ╱       2    2⎛δₘ⎞      2    2⎛α⎞    2⎛α   δₘ⎞ \n",
       "      ╱  Sₐₗₚₕₐ ⋅sin ⎜──⎟ + S_δ ⋅sin ⎜─⎟⋅cos ⎜─ + ──⎟ \n",
       "     ╱               ⎝2 ⎠            ⎝2⎠     ⎝2   2 ⎠ \n",
       "    ╱    ──────────────────────────────────────────── \n",
       "   ╱                          4⎛α⎞                    \n",
       "  ╱                        sin ⎜─⎟                    \n",
       "╲╱                             ⎝2⎠                    \n",
       "──────────────────────────────────────────────────────\n",
       "                          2                           "
      ]
     },
     "metadata": {},
     "output_type": "display_data"
    }
   ],
   "source": [
    "display(sp.simplify(dn))"
   ]
  },
  {
   "cell_type": "markdown",
   "metadata": {},
   "source": [
    "### Heliumbron"
   ]
  },
  {
   "cell_type": "markdown",
   "metadata": {},
   "source": [
    "**Data bron**"
   ]
  },
  {
   "cell_type": "code",
   "execution_count": 27,
   "metadata": {},
   "outputs": [],
   "source": [
    "nulhoek = np.array([-1, -27])\n",
    "lijn1 = np.array([[46, 0]]) - nulhoek\n",
    "lijn2 = np.array([[46, 16], [46, 9], [46, 9]]) - nulhoek\n",
    "lijn3 = np.array([[46, 40], [46, 34], [46, 34]]) - nulhoek\n",
    "lijn4 = np.array([[47, 45]]) - nulhoek\n",
    "lijn5 = np.array([[47, 46], [47, 47], [47, 45]]) - nulhoek\n",
    "lijn6 = np.array([[47, 54]]) - nulhoek\n",
    "lijn7 = np.array([[48, 17], [48, 16], [48, 16]]) - nulhoek\n",
    "lijn8 = np.array([[48, 41], [48, 44], [48, 43]]) - nulhoek"
   ]
  },
  {
   "cell_type": "code",
   "execution_count": 28,
   "metadata": {},
   "outputs": [],
   "source": [
    "lijnen = [lijn1, lijn2, lijn3, lijn4, lijn5, lijn6, lijn7, lijn8]\n",
    "rad = [DMS_to_rad(lijn[:,0], lijn[:,1]) for lijn in lijnen]\n",
    "mean = np.array([radialen.mean() for radialen in rad])\n",
    "stdv = np.array([radialen.std() for radialen in rad])\n",
    "# golflengtes gegeven\n",
    "LAMBDA = np.array([706.5, 667.8, 587.5, 504.8, 501.6, 492.1, 471.3, 447.1])"
   ]
  },
  {
   "cell_type": "code",
   "execution_count": 29,
   "metadata": {},
   "outputs": [],
   "source": [
    "colors = [\"#f10000\", \"#ff0000\", \"#ffdf00\", \"#00ff3f\", \"#00ff66\", \"#00ffe5\", \"#009eff\", \"#0023ff\"]"
   ]
  },
  {
   "cell_type": "code",
   "execution_count": 30,
   "metadata": {},
   "outputs": [
    {
     "data": {
      "image/png": "[encoded data removed]",
      "text/plain": [
       "<Figure size 864x288 with 1 Axes>"
      ]
     },
     "metadata": {},
     "output_type": "display_data"
    }
   ],
   "source": [
    "# plot van het gemeten spectrum\n",
    "fig, ax = plt.subplots(1,1,figsize=(12,4))\n",
    "\n",
    "for i in range(8):\n",
    "    angle = mean[i]\n",
    "    ax.plot([angle, angle], [0, 1], color=colors[i])\n",
    "\n",
    "ax.set_facecolor(\"k\")\n",
    "fig.set_facecolor(\"k\")\n",
    "ax.tick_params(axis='x', color='w', labelcolor='w')\n",
    "ax.spines['bottom'].set_color('w')\n",
    "ax.set_xlabel('Hoek $\\delta_m$ [rad]')\n",
    "ax.xaxis.label.set_color('w')\n",
    "plt.title('Gemeten spectrum Helium', color='w')\n",
    "plt.show()\n",
    "\n",
    "fig.savefig(\"spectrum Helium.png\", facecolor='k', dpi=300)"
   ]
  },
  {
   "cell_type": "code",
   "execution_count": 31,
   "metadata": {},
   "outputs": [],
   "source": [
    "# openingshoek prisma\n",
    "ALPHA = DMS_to_rad(60, 0)\n",
    "# bereken de n-waardes\n",
    "n_num = sp.lambdify([delta, alfa], n, \"numpy\")(mean, ALPHA*np.ones_like(mean))"
   ]
  },
  {
   "cell_type": "markdown",
   "metadata": {},
   "source": [
    "**Bereken de fouten op de gemeten hoeken**"
   ]
  },
  {
   "cell_type": "code",
   "execution_count": 32,
   "metadata": {},
   "outputs": [],
   "source": [
    "sys_fout = DMS_to_rad(0, 3)/np.sqrt(3)*np.sqrt(2)\n",
    "errors = np.array([max(sys_fout/np.sqrt(len(lijnen[i])), stdv[i]) for i in range(8)])\n",
    "# bereken de fouten op n\n",
    "S_n = sp.lambdify([alfa, delta, dalfa, ddelta], dn, \"numpy\")(ALPHA*np.ones_like(mean), mean, errors, np.zeros_like(mean))"
   ]
  },
  {
   "cell_type": "markdown",
   "metadata": {},
   "source": [
    "**Fit de rechte door de data**"
   ]
  },
  {
   "cell_type": "code",
   "execution_count": 33,
   "metadata": {},
   "outputs": [],
   "source": [
    "# de te fitten functie\n",
    "def Cauchy(lam, B, C):\n",
    "    return C + B/lam**2"
   ]
  },
  {
   "cell_type": "code",
   "execution_count": 34,
   "metadata": {},
   "outputs": [],
   "source": [
    "# vind de fitparameters\n",
    "fit = opt.curve_fit(Cauchy, LAMBDA, n_num, (0, 100))"
   ]
  },
  {
   "cell_type": "code",
   "execution_count": 35,
   "metadata": {},
   "outputs": [
    {
     "data": {
      "image/png": "[encoded data removed]",
      "text/plain": [
       "<Figure size 576x432 with 1 Axes>"
      ]
     },
     "metadata": {
      "needs_background": "light"
     },
     "output_type": "display_data"
    }
   ],
   "source": [
    "fig, ax = plt.subplots(1,1,figsize=(8, 6))\n",
    "\n",
    "X = np.linspace(LAMBDA.min(), LAMBDA.max(), 1000)\n",
    "ax.plot(1/LAMBDA**2, n_num, 'o', label=\"berekende brekingsindexen\")\n",
    "ax.plot(1/X**2, Cauchy(X, *fit[0]), label=\"fit Cauchy vergelijking\")\n",
    "ax.set_ylabel(\"brekingsindex n\")\n",
    "ax.set_xlabel(\"$1/\\lambda^2$ [1/nm^2]\")\n",
    "\n",
    "#plt.title(\"Curve fit Cauchy vergelijking\")\n",
    "plt.legend()\n",
    "\n",
    "plt.show()\n",
    "\n",
    "fig.savefig(\"Fit Cauchyvergelijking.png\", dpi=300)"
   ]
  },
  {
   "cell_type": "markdown",
   "metadata": {},
   "source": [
    "**Print de fitparameters**"
   ]
  },
  {
   "cell_type": "code",
   "execution_count": 16,
   "metadata": {},
   "outputs": [
    {
     "name": "stdout",
     "output_type": "stream",
     "text": [
      "B: 9416 +- 262 \n",
      " C: 1.5929 +- 0.0010\n"
     ]
    }
   ],
   "source": [
    "print(\"B: %.0f +- %.0f \\n C: %.4f +- %.4f\" %(fit[0][0], np.sqrt(fit[1][0,0]), fit[0][1], np.sqrt(fit[1][1,1])))"
   ]
  },
  {
   "cell_type": "markdown",
   "metadata": {},
   "source": [
    "### Onbekende bron"
   ]
  },
  {
   "cell_type": "markdown",
   "metadata": {},
   "source": [
    "**Data bron**"
   ]
  },
  {
   "cell_type": "code",
   "execution_count": 17,
   "metadata": {},
   "outputs": [],
   "source": [
    "lijn1 = np.array([[46, 51], [46, 51], [46, 49], [46, 49]]) - nulhoek\n",
    "lijn2 = np.array([[47, 12], [47, 7], [47, 11], [47, 9]]) - nulhoek\n",
    "lijn3 = np.array([[48, 57], [48, 58], [48, 59], [48, 59]]) - nulhoek"
   ]
  },
  {
   "cell_type": "code",
   "execution_count": 18,
   "metadata": {},
   "outputs": [],
   "source": [
    "lijnen = [lijn1, lijn2, lijn3]\n",
    "rad = [DMS_to_rad(lijn[:,0], lijn[:,1]) for lijn in lijnen]\n",
    "mean = np.array([radialen.mean() for radialen in rad])\n",
    "stdv = np.array([radialen.std() for radialen in rad])"
   ]
  },
  {
   "cell_type": "markdown",
   "metadata": {},
   "source": [
    "**Omrekenen graden naar golflengtes**"
   ]
  },
  {
   "cell_type": "code",
   "execution_count": 19,
   "metadata": {},
   "outputs": [
    {
     "data": {
      "image/png": "[encoded data removed]",
      "text/latex": [
       "$$\\frac{B}{\\lambda^{2}} + C$$"
      ],
      "text/plain": [
       "B     \n",
       "── + C\n",
       " 2    \n",
       "λ     "
      ]
     },
     "metadata": {},
     "output_type": "display_data"
    },
    {
     "data": {
      "image/png": "[encoded data removed]",
      "text/latex": [
       "$$\\sqrt{- \\frac{B}{C - n}}$$"
      ],
      "text/plain": [
       "    _______\n",
       "   ╱  -B   \n",
       "  ╱  ───── \n",
       "╲╱   C - n "
      ]
     },
     "metadata": {},
     "output_type": "display_data"
    },
    {
     "data": {
      "image/png": "[encoded data removed]",
      "text/latex": [
       "$$\\sqrt{- \\frac{B S_{C}^{2}}{4 \\left(C - n\\right)^{3}} - \\frac{B S_{n}^{2}}{4 \\left(C - n\\right)^{3}} - \\frac{S_{B}^{2}}{4 B \\left(C - n\\right)}}$$"
      ],
      "text/plain": [
       "      _________________________________________\n",
       "     ╱          2           2             2    \n",
       "    ╱      B⋅S_C        B⋅Sₙ           S_B     \n",
       "   ╱   - ────────── - ────────── - ─────────── \n",
       "  ╱               3            3   4⋅B⋅(C - n) \n",
       "╲╱       4⋅(C - n)    4⋅(C - n)                "
      ]
     },
     "metadata": {},
     "output_type": "display_data"
    }
   ],
   "source": [
    "# definieer de Cauchy vergelijking als sympy functie\n",
    "B, C, n_sym, S_B, S_C, S_n_sym = sp.symbols('B, C, n, S_B, S_C, S_n')\n",
    "cauchy = B/lam**2 + C\n",
    "display(cauchy)\n",
    "# inverteer cauchy naar golflengte = ...\n",
    "cauchy_inv = sp.solve(sp.Eq(cauchy, n_sym), lam)[1]\n",
    "display(cauchy_inv)\n",
    "# bereken de foutenpropagatieformule op cauchy_inv\n",
    "sym = [B, C, n_sym]\n",
    "S_sym = [S_B, S_C, S_n_sym]\n",
    "S_lam = error(cauchy_inv, sym, S_sym)\n",
    "display(S_lam)"
   ]
  },
  {
   "cell_type": "code",
   "execution_count": 20,
   "metadata": {},
   "outputs": [],
   "source": [
    "# bereken n uit de gemeten hoeken en de fout op n\n",
    "n_num = sp.lambdify([delta, alfa], n, \"numpy\")(mean, ALPHA*np.ones_like(mean))\n",
    "# bereken de fout op elke hoek, rekening houdend met de systematische fout\n",
    "sys_fout = DMS_to_rad(0, 3)/np.sqrt(3)*np.sqrt(2)\n",
    "errors = np.array([max(sys_fout/np.sqrt(len(lijnen[i])), stdv[i]) for i in range(3)])\n",
    "# bereken de fouten op n\n",
    "S_n = sp.lambdify([alfa, delta, dalfa, ddelta], dn, \"numpy\")(ALPHA*np.ones_like(mean), mean, errors, np.zeros_like(mean))"
   ]
  },
  {
   "cell_type": "code",
   "execution_count": 21,
   "metadata": {},
   "outputs": [],
   "source": [
    "# bereken uit de brekingsindexen  de golflengtes\n",
    "B_num, C_num = (fit[0][0], fit[0][1])\n",
    "S_B_num, S_C_num = np.sqrt(np.array([fit[1][0,0], fit[1][1,1]]))\n",
    "LAMBDA = sp.lambdify(sym, cauchy_inv, \"numpy\")(B_num*np.ones_like(n_num), C_num*np.ones_like(n_num), n_num)\n",
    "S_LAMBDA = sp.lambdify(sym + S_sym, S_lam, \"numpy\")(B_num*np.ones_like(n_num), C_num*np.ones_like(n_num), n_num, S_B_num*np.ones_like(n_num), S_C_num*np.ones_like(n_num), S_n)"
   ]
  },
  {
   "cell_type": "code",
   "execution_count": 22,
   "metadata": {},
   "outputs": [
    {
     "data": {
      "text/plain": [
       "array([579.41978399, 547.56104395, 435.63239118])"
      ]
     },
     "metadata": {},
     "output_type": "display_data"
    },
    {
     "data": {
      "text/plain": [
       "array([13.23953245, 12.090776  ,  7.5325213 ])"
      ]
     },
     "metadata": {},
     "output_type": "display_data"
    }
   ],
   "source": [
    "display(LAMBDA, S_LAMBDA)"
   ]
  },
  {
   "cell_type": "markdown",
   "metadata": {},
   "source": [
    "**Importeer spectrum van kwik**"
   ]
  },
  {
   "cell_type": "code",
   "execution_count": 23,
   "metadata": {},
   "outputs": [
    {
     "name": "stderr",
     "output_type": "stream",
     "text": [
      "/home/pieter/miniconda3/lib/python3.7/site-packages/ipykernel_launcher.py:1: ParserWarning: Falling back to the 'python' engine because the 'c' engine does not support regex separators (separators > 1 char and different from '\\s+' are interpreted as regex); you can avoid this warning by specifying engine='python'.\n",
      "  \"\"\"Entry point for launching an IPython kernel.\n"
     ]
    },
    {
     "data": {
      "text/html": [
       "<div>\n",
       "<style scoped>\n",
       "    .dataframe tbody tr th:only-of-type {\n",
       "        vertical-align: middle;\n",
       "    }\n",
       "\n",
       "    .dataframe tbody tr th {\n",
       "        vertical-align: top;\n",
       "    }\n",
       "\n",
       "    .dataframe thead th {\n",
       "        text-align: right;\n",
       "    }\n",
       "</style>\n",
       "<table border=\"1\" class=\"dataframe\">\n",
       "  <thead>\n",
       "    <tr style=\"text-align: right;\">\n",
       "      <th></th>\n",
       "      <th>wavelength</th>\n",
       "      <th>intensity</th>\n",
       "    </tr>\n",
       "  </thead>\n",
       "  <tbody>\n",
       "    <tr>\n",
       "      <th>0</th>\n",
       "      <td>404.656</td>\n",
       "      <td>1800</td>\n",
       "    </tr>\n",
       "    <tr>\n",
       "      <th>5</th>\n",
       "      <td>435.833</td>\n",
       "      <td>2000</td>\n",
       "    </tr>\n",
       "    <tr>\n",
       "      <th>22</th>\n",
       "      <td>546.074</td>\n",
       "      <td>1100</td>\n",
       "    </tr>\n",
       "    <tr>\n",
       "      <th>25</th>\n",
       "      <td>576.960</td>\n",
       "      <td>1240</td>\n",
       "    </tr>\n",
       "    <tr>\n",
       "      <th>26</th>\n",
       "      <td>578.966</td>\n",
       "      <td>1100</td>\n",
       "    </tr>\n",
       "  </tbody>\n",
       "</table>\n",
       "</div>"
      ],
      "text/plain": [
       "    wavelength  intensity\n",
       "0      404.656       1800\n",
       "5      435.833       2000\n",
       "22     546.074       1100\n",
       "25     576.960       1240\n",
       "26     578.966       1100"
      ]
     },
     "execution_count": 23,
     "metadata": {},
     "output_type": "execute_result"
    }
   ],
   "source": [
    "spectrum = pd.read_csv(\"mercury.txt\", sep=\"   \", names=[\"wavelength\", \"intensity\"])\n",
    "spectrum = spectrum.loc[spectrum['intensity'] >= 1100]\n",
    "spectrum[\"wavelength\"] = spectrum[\"wavelength\"]/10\n",
    "spectrum"
   ]
  },
  {
   "cell_type": "code",
   "execution_count": 24,
   "metadata": {},
   "outputs": [
    {
     "data": {
      "text/html": [
       "<div>\n",
       "<style scoped>\n",
       "    .dataframe tbody tr th:only-of-type {\n",
       "        vertical-align: middle;\n",
       "    }\n",
       "\n",
       "    .dataframe tbody tr th {\n",
       "        vertical-align: top;\n",
       "    }\n",
       "\n",
       "    .dataframe thead th {\n",
       "        text-align: right;\n",
       "    }\n",
       "</style>\n",
       "<table border=\"1\" class=\"dataframe\">\n",
       "  <thead>\n",
       "    <tr style=\"text-align: right;\">\n",
       "      <th></th>\n",
       "      <th>wavelength</th>\n",
       "      <th>intensity</th>\n",
       "    </tr>\n",
       "  </thead>\n",
       "  <tbody>\n",
       "    <tr>\n",
       "      <th>5</th>\n",
       "      <td>435.833</td>\n",
       "      <td>2000</td>\n",
       "    </tr>\n",
       "    <tr>\n",
       "      <th>22</th>\n",
       "      <td>546.074</td>\n",
       "      <td>1100</td>\n",
       "    </tr>\n",
       "    <tr>\n",
       "      <th>26</th>\n",
       "      <td>578.966</td>\n",
       "      <td>1100</td>\n",
       "    </tr>\n",
       "  </tbody>\n",
       "</table>\n",
       "</div>"
      ],
      "text/plain": [
       "    wavelength  intensity\n",
       "5      435.833       2000\n",
       "22     546.074       1100\n",
       "26     578.966       1100"
      ]
     },
     "execution_count": 24,
     "metadata": {},
     "output_type": "execute_result"
    }
   ],
   "source": [
    "# selecteer enkel de lijnen die ik ook zag\n",
    "spectrum = spectrum.loc[[5, 22, 26]]\n",
    "spectrum"
   ]
  },
  {
   "cell_type": "markdown",
   "metadata": {},
   "source": [
    "**Maak een plot van het gemeten spectrum van kwik**"
   ]
  },
  {
   "cell_type": "code",
   "execution_count": 25,
   "metadata": {},
   "outputs": [],
   "source": [
    "colors=[\"#fcff00\", \"#9cff00\", \"#1d00ff\"]\n",
    "width = [4, 1.5, 1.5]"
   ]
  },
  {
   "cell_type": "code",
   "execution_count": 26,
   "metadata": {},
   "outputs": [
    {
     "data": {
      "image/png": "[encoded data removed]",
      "text/plain": [
       "<Figure size 864x288 with 1 Axes>"
      ]
     },
     "metadata": {},
     "output_type": "display_data"
    }
   ],
   "source": [
    "# plot van het gemeten spectrum\n",
    "fig, ax = plt.subplots(1,1,figsize=(12,4))\n",
    "\n",
    "for i in range(3):\n",
    "    length = LAMBDA[i]\n",
    "    ax.plot([length, length], [0, 1], color=colors[i], linewidth=width[i])\n",
    "    length = spectrum[\"wavelength\"].values[2-i]\n",
    "    #ax.plot([length, length], [1, 2], color=colors[i], linewidth=width[i])\n",
    "\n",
    "ax.set_facecolor(\"k\")\n",
    "fig.set_facecolor(\"k\")\n",
    "ax.tick_params(axis='x', color='w', labelcolor='w')\n",
    "ax.spines['bottom'].set_color('w')\n",
    "ax.set_xlabel('golflengte $\\lambda$ [nm]')\n",
    "ax.xaxis.label.set_color('w')\n",
    "plt.title('Gemeten spectrum kwik', color='w')\n",
    "plt.show()\n",
    "\n",
    "fig.savefig(\"spectrum kwik.png\", facecolor='k', dpi=300)"
   ]
  }
 ],
 "metadata": {
  "kernelspec": {
   "display_name": "Python 3",
   "language": "python",
   "name": "python3"
  },
  "language_info": {
   "codemirror_mode": {
    "name": "ipython",
    "version": 3
   },
   "file_extension": ".py",
   "mimetype": "text/x-python",
   "name": "python",
   "nbconvert_exporter": "python",
   "pygments_lexer": "ipython3",
   "version": "3.7.1"
  }
 },
 "nbformat": 4,
 "nbformat_minor": 2
}
