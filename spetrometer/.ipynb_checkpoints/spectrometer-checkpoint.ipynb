{
 "cells": [
  {
   "cell_type": "markdown",
   "metadata": {},
   "source": [
    "# De spectrometer"
   ]
  },
  {
   "cell_type": "markdown",
   "metadata": {},
   "source": [
    "## Import packages"
   ]
  },
  {
   "cell_type": "code",
   "execution_count": 71,
   "metadata": {},
   "outputs": [],
   "source": [
    "import numpy as np\n",
    "import sympy as sp\n",
    "import matplotlib as mpl\n",
    "import matplotlib.pyplot as plt\n",
    "import pandas as pd\n",
    "import math\n",
    "import scipy.optimize as opt\n",
    "\n",
    "sp.init_printing()"
   ]
  },
  {
   "cell_type": "markdown",
   "metadata": {},
   "source": [
    "## hulpfuncties"
   ]
  },
  {
   "cell_type": "code",
   "execution_count": 22,
   "metadata": {},
   "outputs": [],
   "source": [
    "def DMS_to_rad(dd, mm, ss=0):\n",
    "    degrees = dd + mm/60 + ss/3600\n",
    "    return np.radians(degrees)\n",
    "\n",
    "def error(function, variables, deviations):\n",
    "    return sp.sqrt(sum([sp.diff(function, variables[i])**2 * deviations[i]**2 for i in range(len(variables))]))\n"
   ]
  },
  {
   "cell_type": "markdown",
   "metadata": {},
   "source": [
    "## Voorbereidende opgaves"
   ]
  },
  {
   "cell_type": "code",
   "execution_count": 3,
   "metadata": {},
   "outputs": [
    {
     "data": {
      "image/png": "[encoded data removed]",
      "text/latex": [
       "$$\\frac{\\sin{\\left (\\frac{\\alpha}{2} + \\frac{\\delta_{m}}{2} \\right )}}{\\sin{\\left (\\frac{\\alpha}{2} \\right )}}$$"
      ],
      "text/plain": [
       "   ⎛α   δₘ⎞\n",
       "sin⎜─ + ──⎟\n",
       "   ⎝2   2 ⎠\n",
       "───────────\n",
       "      ⎛α⎞  \n",
       "   sin⎜─⎟  \n",
       "      ⎝2⎠  "
      ]
     },
     "metadata": {},
     "output_type": "display_data"
    }
   ],
   "source": [
    "# variabelen voor functie\n",
    "lam, delta, alfa = sp.symbols('lambda, delta_m, alpha')\n",
    "# standaardafwijkingen op deze variabelen\n",
    "dlam, ddelta, dalfa = sp.symbols('S_lambda, S_delta, S_alpha')\n",
    "# functie die brekingsindex geeft in functie dispersie en opening\n",
    "n = sp.sin((delta + alfa)/2)/sp.sin(alfa/2)\n",
    "display(n)"
   ]
  },
  {
   "cell_type": "code",
   "execution_count": 4,
   "metadata": {},
   "outputs": [
    {
     "data": {
      "image/png": "[encoded data removed]",
      "text/latex": [
       "$$1.48036035728989$$"
      ],
      "text/plain": [
       "1.48036035728989"
      ]
     },
     "metadata": {},
     "output_type": "display_data"
    },
    {
     "data": {
      "image/png": "[encoded data removed]",
      "text/latex": [
       "$$0.00245851421680444$$"
      ],
      "text/plain": [
       "0.00245851421680444"
      ]
     },
     "metadata": {},
     "output_type": "display_data"
    }
   ],
   "source": [
    "# gegeven waardes voor de hoeken\n",
    "ALFA = DMS_to_rad(60, 18, 0)\n",
    "S_ALFA = DMS_to_rad(0, 10, 0)/np.sqrt(3)\n",
    "DELTA = DMS_to_rad(35, 46, 0)\n",
    "S_DELTA = DMS_to_rad(0, 20, 0)/np.sqrt(3)\n",
    "# bereken de waarde van n:\n",
    "N = n.subs({alfa : ALFA, delta : DELTA})\n",
    "display(N)\n",
    "# bereken de fout op N\n",
    "dn = error(n, [alfa, delta], [dalfa, ddelta])\n",
    "DN = dn.subs({alfa : ALFA, delta : DELTA, dalfa : S_ALFA, ddelta : S_DELTA})\n",
    "display(DN)"
   ]
  },
  {
   "cell_type": "code",
   "execution_count": 5,
   "metadata": {},
   "outputs": [
    {
     "data": {
      "image/png": "[encoded data removed]",
      "text/latex": [
       "$$\\frac{\\sqrt{\\frac{S_{\\alpha}^{2} \\sin^{2}{\\left (\\frac{\\delta_{m}}{2} \\right )} + S_{\\delta}^{2} \\sin^{2}{\\left (\\frac{\\alpha}{2} \\right )} \\cos^{2}{\\left (\\frac{\\alpha}{2} + \\frac{\\delta_{m}}{2} \\right )}}{\\sin^{4}{\\left (\\frac{\\alpha}{2} \\right )}}}}{2}$$"
      ],
      "text/plain": [
       "        ______________________________________________\n",
       "       ╱       2    2⎛δₘ⎞      2    2⎛α⎞    2⎛α   δₘ⎞ \n",
       "      ╱  Sₐₗₚₕₐ ⋅sin ⎜──⎟ + S_δ ⋅sin ⎜─⎟⋅cos ⎜─ + ──⎟ \n",
       "     ╱               ⎝2 ⎠            ⎝2⎠     ⎝2   2 ⎠ \n",
       "    ╱    ──────────────────────────────────────────── \n",
       "   ╱                          4⎛α⎞                    \n",
       "  ╱                        sin ⎜─⎟                    \n",
       "╲╱                             ⎝2⎠                    \n",
       "──────────────────────────────────────────────────────\n",
       "                          2                           "
      ]
     },
     "metadata": {},
     "output_type": "display_data"
    }
   ],
   "source": [
    "display(sp.simplify(dn))"
   ]
  },
  {
   "cell_type": "markdown",
   "metadata": {},
   "source": [
    "## Heliumbron"
   ]
  },
  {
   "cell_type": "markdown",
   "metadata": {},
   "source": [
    "**Data bron**"
   ]
  },
  {
   "cell_type": "code",
   "execution_count": 17,
   "metadata": {},
   "outputs": [],
   "source": [
    "nulhoek = np.array([-1, -27])\n",
    "lijn1 = np.array([[46, 0]]) - nulhoek\n",
    "lijn2 = np.array([[46, 16], [46, 9], [46, 9]]) - nulhoek\n",
    "lijn3 = np.array([[46, 40], [46, 34], [46, 34]]) - nulhoek\n",
    "lijn4 = np.array([[47, 45]]) - nulhoek\n",
    "lijn5 = np.array([[47, 46], [47, 47], [47, 45]]) - nulhoek\n",
    "lijn6 = np.array([[47, 54]]) - nulhoek\n",
    "lijn7 = np.array([[48, 17], [48, 16], [48, 16]]) - nulhoek\n",
    "lijn8 = np.array([[48, 41], [48, 44], [48, 43]]) - nulhoek"
   ]
  },
  {
   "cell_type": "code",
   "execution_count": 47,
   "metadata": {},
   "outputs": [],
   "source": [
    "lijnen = [lijn1, lijn2, lijn3, lijn4, lijn5, lijn6, lijn7, lijn8]\n",
    "rad = [DMS_to_rad(lijn[:,0], lijn[:,1]) for lijn in lijnen]\n",
    "mean = np.array([radialen.mean() for radialen in rad])\n",
    "stdv = np.array([radialen.std() for radialen in rad])\n",
    "LAMBDA = np.array([706.5, 667.8, 587.5, 504.8, 501.6, 492.1, 471.3, 447.1])"
   ]
  },
  {
   "cell_type": "code",
   "execution_count": 29,
   "metadata": {},
   "outputs": [],
   "source": [
    "colors = [\"#f10000\", \"#ff0000\", \"#ffdf00\", \"#00ff3f\", \"#00ff66\", \"#00ffe5\", \"#009eff\", \"#0023ff\"]"
   ]
  },
  {
   "cell_type": "code",
   "execution_count": 46,
   "metadata": {},
   "outputs": [
    {
     "data": {
      "image/png": "[encoded data removed]",
      "text/plain": [
       "<Figure size 864x288 with 1 Axes>"
      ]
     },
     "metadata": {},
     "output_type": "display_data"
    }
   ],
   "source": [
    "# plot van het gemeten spectrum\n",
    "fig, ax = plt.subplots(1,1,figsize=(12,4))\n",
    "\n",
    "for i in range(8):\n",
    "    angle = mean[i]\n",
    "    ax.plot([angle, angle], [0, 1], color=colors[i])\n",
    "\n",
    "ax.set_facecolor(\"k\")\n",
    "fig.set_facecolor(\"k\")\n",
    "ax.tick_params(axis='x', color='w', labelcolor='w')\n",
    "ax.spines['bottom'].set_color('w')\n",
    "ax.set_xlabel('Hoek $\\delta_m$ [rad]')\n",
    "ax.xaxis.label.set_color('w')\n",
    "plt.title('Gemeten spectrum Helium', color='w')\n",
    "plt.show()\n",
    "\n",
    "fig.savefig(\"spectrum Helium.png\", facecolor='k', dpi=300)"
   ]
  },
  {
   "cell_type": "code",
   "execution_count": 48,
   "metadata": {},
   "outputs": [],
   "source": [
    "# openingshoek prisma\n",
    "ALPHA = DMS_to_rad(60, 0)\n",
    "# bereken de n-waardes\n",
    "n_num = sp.lambdify([delta, alfa], n, \"numpy\")(mean, ALPHA*np.ones_like(mean))"
   ]
  },
  {
   "cell_type": "markdown",
   "metadata": {},
   "source": [
    "**Bereken de fouten op de gemeten hoeken**"
   ]
  },
  {
   "cell_type": "code",
   "execution_count": 63,
   "metadata": {},
   "outputs": [],
   "source": [
    "sys_fout = DMS_to_rad(0, 3)/np.sqrt(3)\n",
    "errors = np.array([max(sys_fout/np.sqrt(len(lijnen[i])), stdv[i]) for i in range(8)])\n",
    "# bereken de fouten op n\n",
    "S_n = sp.lambdify([alfa, delta, dalfa, ddelta], dn, \"numpy\")(ALPHA*np.ones_like(mean), mean, errors, np.zeros_like(mean))"
   ]
  },
  {
   "cell_type": "markdown",
   "metadata": {},
   "source": [
    "**Fit de rechte door de data**"
   ]
  },
  {
   "cell_type": "code",
   "execution_count": 70,
   "metadata": {},
   "outputs": [],
   "source": [
    "def Cauchy(lam, B, C):\n",
    "    return C + B/lam**2"
   ]
  },
  {
   "cell_type": "code",
   "execution_count": 72,
   "metadata": {},
   "outputs": [],
   "source": [
    "fit = opt.curve_fit(Cauchy, LAMBDA, n_num, (0, 100))"
   ]
  },
  {
   "cell_type": "code",
   "execution_count": 73,
   "metadata": {},
   "outputs": [
    {
     "data": {
      "text/plain": [
       "(array([9.41612480e+03, 1.59288875e+00]),\n",
       " array([[ 6.84955766e+04, -2.45521183e-01],\n",
       "        [-2.45521183e-01,  9.50193796e-07]]))"
      ]
     },
     "execution_count": 73,
     "metadata": {},
     "output_type": "execute_result"
    }
   ],
   "source": [
    "fit"
   ]
  },
  {
   "cell_type": "code",
   "execution_count": 75,
   "metadata": {},
   "outputs": [
    {
     "data": {
      "image/png": "[encoded data removed]",
      "text/plain": [
       "<Figure size 864x576 with 1 Axes>"
      ]
     },
     "metadata": {
      "needs_background": "light"
     },
     "output_type": "display_data"
    }
   ],
   "source": [
    "fig, ax = plt.subplots(1,1,figsize=(12,8))\n",
    "\n",
    "X = np.linspace(LAMBDA.min(), LAMBDA.max(), 1000)\n",
    "ax.plot(1/LAMBDA**2, n_num, 'o')\n",
    "ax.plot(1/X**2, Cauchy(X, *fit[0]))\n",
    "ax.set_ylabel(\"brekingsindex n\")\n",
    "ax.set_xlabel(\"$1/\\lambda^2$ [1/nm^2]\")\n",
    "\n",
    "plt.title(\"Curve fit Cauchy vergelijking\")\n",
    "\n",
    "plt.show()"
   ]
  }
 ],
 "metadata": {
  "kernelspec": {
   "display_name": "Python 3",
   "language": "python",
   "name": "python3"
  },
  "language_info": {
   "codemirror_mode": {
    "name": "ipython",
    "version": 3
   },
   "file_extension": ".py",
   "mimetype": "text/x-python",
   "name": "python",
   "nbconvert_exporter": "python",
   "pygments_lexer": "ipython3",
   "version": "3.7.1"
  }
 },
 "nbformat": 4,
 "nbformat_minor": 2
}
