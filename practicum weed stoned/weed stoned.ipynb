{
 "cells": [
  {
   "cell_type": "markdown",
   "metadata": {},
   "source": [
    "# Practicum weed stoned bruggen"
   ]
  },
  {
   "cell_type": "markdown",
   "metadata": {
    "heading_collapsed": true
   },
   "source": [
    "## Importeren packages"
   ]
  },
  {
   "cell_type": "code",
   "execution_count": 1,
   "metadata": {
    "hidden": true
   },
   "outputs": [
    {
     "name": "stderr",
     "output_type": "stream",
     "text": [
      "C:\\ProgramData\\Miniconda3\\lib\\site-packages\\matplotlib\\style\\core.py:201: UserWarning: In C:\\ProgramData\\Miniconda3\\lib\\site-packages\\matplotlib\\mpl-data\\stylelib\\beaver_color_theme.mplstyle: Bad val \"'\" on line #1\n",
      "\t\"axes.prop_cycle : '#d8d8d8', '#969696', '#cc0000', '#33b2b2'\"\n",
      "\tin file \"C:\\ProgramData\\Miniconda3\\lib\\site-packages\\matplotlib\\mpl-data\\stylelib\\beaver_color_theme.mplstyle\"\n",
      "\tKey axes.prop_cycle: ''' is not a valid cycler construction: EOL while scanning string literal (<string>, line 1)\n",
      "  warnings.warn(message)\n"
     ]
    }
   ],
   "source": [
    "import numpy as np\n",
    "\n",
    "#import faseportret as fp\n",
    "\n",
    "import matplotlib.pyplot as plt\n",
    "import matplotlib.animation as animation\n",
    "from mpl_toolkits.mplot3d import Axes3D\n",
    "# import seaborn as sns\n",
    "import matplotlib.colors as colors\n",
    "import os\n",
    "\n",
    "# import scipy.io as io\n",
    "# import scipy.interpolate as inter\n",
    "# import scipy.optimize as opt\n",
    "import sympy as sp\n",
    "import scipy.stats as nst\n",
    "\n",
    "import math\n",
    "import pandas as pd\n",
    "\n",
    "#plt.style.use(['gruvboxd_style_theme', 'gruvboxd_color_theme'])\n",
    "\n",
    "import matplotlib.animation as animation\n",
    "\n",
    "\n",
    "from IPython.display import display\n",
    "sp.init_printing()\n",
    "#%matplotlib notebook"
   ]
  },
  {
   "cell_type": "code",
   "execution_count": 2,
   "metadata": {
    "hidden": true
   },
   "outputs": [],
   "source": [
    "# functie om foutenpropagatieformules uit te rekenen\n",
    "def fout(expression, variables, stdvs):\n",
    "    return sp.sqrt(sum([sp.diff(expression, variables[i])**2 * stdvs[i]**2 for i in range(len(variables))]))"
   ]
  },
  {
   "cell_type": "markdown",
   "metadata": {},
   "source": [
    "## Dataverwerking"
   ]
  },
  {
   "cell_type": "markdown",
   "metadata": {},
   "source": [
    "**Importeren waarden en berekenen fouten**"
   ]
  },
  {
   "cell_type": "code",
   "execution_count": 3,
   "metadata": {},
   "outputs": [],
   "source": [
    "# namen van de weerstanden\n",
    "namen = ['X1', 'X2', 'X3', 'X4', 'X5', 'X6', 'X7']\n",
    "\n",
    "gegeven = np.array([390, 2400, 2000, 150, 620, 1500, 750], dtype=np.float64)\n",
    "rel_geg = np.array([0.01, 0.01, 0.01, 0.05, 0.01, 0.01, 0.05], dtype=np.float64)\n",
    "# bereken de 1sigma fouten op de afgelezen waarden\n",
    "fout_geg = rel_geg*gegeven*2/np.sqrt(12)\n",
    "\n",
    "# ingeven opgemeten waarden en gebruikte weerstanden\n",
    "R1 = np.array([1e4, 1e4, 1e4, 1e4, 1e4, 1e4, 1e4], dtype=np.float64)\n",
    "R3 = np.array([1e4, 1e3, 1e3, 1e4, 1e4, 1e3, 1e4], dtype=np.float64)\n",
    "R4 = np.array([394, 241, 200, 151, 627, 151, 754], dtype=np.float64)\n",
    "\n",
    "# bereken de 1sigma fout op de waarden van de regelbare weerstand\n",
    "S_R4 = R4*0.01 + np.ones_like(R4)\n",
    "\n",
    "# bereken de gemeten weerstanden Xi\n",
    "berekend = R4*R1/R3"
   ]
  },
  {
   "cell_type": "markdown",
   "metadata": {},
   "source": [
    "**Berekenen fouten op berekende waarden**"
   ]
  },
  {
   "cell_type": "code",
   "execution_count": 4,
   "metadata": {},
   "outputs": [
    {
     "name": "stdout",
     "output_type": "stream",
     "text": [
      "theoretisch: 390 +- 2, berekend: 394 +- 5\n",
      "theoretisch: 2400 +- 14, berekend: 2410 +- 35\n",
      "theoretisch: 2000 +- 12, berekend: 2000 +- 31\n",
      "theoretisch: 150 +- 4, berekend: 151 +- 3\n",
      "theoretisch: 620 +- 4, berekend: 627 +- 7\n",
      "theoretisch: 1500 +- 9, berekend: 1510 +- 25\n",
      "theoretisch: 750 +- 22, berekend: 754 +- 9\n"
     ]
    }
   ],
   "source": [
    "# vind de formule voor de fout op de berekende waarde\n",
    "r1, r3, r4, sr1, sr3, sr4 = sp.symbols('R_1, R_3, R_4, S_R1, S_R3, S_R4')\n",
    "R2 = r4*r1/r3\n",
    "S_R2 = fout(R2, [r1, r3, r4], [sr1, sr3, sr4])\n",
    "# bereken de 1sigma fouten op de berekende waardes\n",
    "fout_berekend = sp.lambdify([r1, r3, r4, sr1, sr3, sr4], S_R2, 'numpy')(R1, R3, R4, R1*0.002, R3*0.002, S_R4)\n",
    "\n",
    "# print de theoretishe en berekende waarden met hun 1sigma fouten\n",
    "for i in range(len(berekend)):\n",
    "    print('theoretisch: %.0f +- %.0f, berekend: %.0f +- %.0f' %(gegeven[i], fout_geg[i], berekend[i], fout_berekend[i]))"
   ]
  },
  {
   "cell_type": "code",
   "execution_count": 5,
   "metadata": {},
   "outputs": [],
   "source": [
    "# doe de hypothesetest\n",
    "sigma_tot2 = fout_geg**2 + fout_berekend**2\n",
    "X = np.abs(gegeven-berekend)/np.sqrt(sigma_tot2)\n",
    "# sigma_tot is ongeveer normaal verdeeld\n",
    "p_waarde = 2*(1-nst.norm.cdf(X))"
   ]
  },
  {
   "cell_type": "markdown",
   "metadata": {},
   "source": [
    "**Maak een tabel met de gemeten en berekende waarden en de fouten**"
   ]
  },
  {
   "cell_type": "code",
   "execution_count": 6,
   "metadata": {},
   "outputs": [
    {
     "data": {
      "text/html": [
       "<div>\n",
       "<style scoped>\n",
       "    .dataframe tbody tr th:only-of-type {\n",
       "        vertical-align: middle;\n",
       "    }\n",
       "\n",
       "    .dataframe tbody tr th {\n",
       "        vertical-align: top;\n",
       "    }\n",
       "\n",
       "    .dataframe thead th {\n",
       "        text-align: right;\n",
       "    }\n",
       "</style>\n",
       "<table border=\"1\" class=\"dataframe\">\n",
       "  <thead>\n",
       "    <tr style=\"text-align: right;\">\n",
       "      <th></th>\n",
       "      <th>gegeven</th>\n",
       "      <th>rel_geg</th>\n",
       "      <th>R1/R3</th>\n",
       "      <th>fout_geg</th>\n",
       "      <th>berekend</th>\n",
       "      <th>fout_berekend</th>\n",
       "      <th>R_1</th>\n",
       "      <th>R_3</th>\n",
       "      <th>R_4</th>\n",
       "      <th>S_R4</th>\n",
       "      <th>X</th>\n",
       "      <th>p-waarde</th>\n",
       "    </tr>\n",
       "    <tr>\n",
       "      <th>weerstand</th>\n",
       "      <th></th>\n",
       "      <th></th>\n",
       "      <th></th>\n",
       "      <th></th>\n",
       "      <th></th>\n",
       "      <th></th>\n",
       "      <th></th>\n",
       "      <th></th>\n",
       "      <th></th>\n",
       "      <th></th>\n",
       "      <th></th>\n",
       "      <th></th>\n",
       "    </tr>\n",
       "  </thead>\n",
       "  <tbody>\n",
       "    <tr>\n",
       "      <th>X1</th>\n",
       "      <td>390.0</td>\n",
       "      <td>0.01</td>\n",
       "      <td>1.0</td>\n",
       "      <td>2.251666</td>\n",
       "      <td>394.0</td>\n",
       "      <td>5.064137</td>\n",
       "      <td>10000.0</td>\n",
       "      <td>10000.0</td>\n",
       "      <td>394.0</td>\n",
       "      <td>4.94</td>\n",
       "      <td>0.721741</td>\n",
       "      <td>0.470454</td>\n",
       "    </tr>\n",
       "    <tr>\n",
       "      <th>X2</th>\n",
       "      <td>2400.0</td>\n",
       "      <td>0.01</td>\n",
       "      <td>10.0</td>\n",
       "      <td>13.856406</td>\n",
       "      <td>2410.0</td>\n",
       "      <td>34.774629</td>\n",
       "      <td>10000.0</td>\n",
       "      <td>1000.0</td>\n",
       "      <td>241.0</td>\n",
       "      <td>3.41</td>\n",
       "      <td>0.267140</td>\n",
       "      <td>0.789362</td>\n",
       "    </tr>\n",
       "    <tr>\n",
       "      <th>X3</th>\n",
       "      <td>2000.0</td>\n",
       "      <td>0.01</td>\n",
       "      <td>10.0</td>\n",
       "      <td>11.547005</td>\n",
       "      <td>2000.0</td>\n",
       "      <td>30.528675</td>\n",
       "      <td>10000.0</td>\n",
       "      <td>1000.0</td>\n",
       "      <td>200.0</td>\n",
       "      <td>3.00</td>\n",
       "      <td>0.000000</td>\n",
       "      <td>1.000000</td>\n",
       "    </tr>\n",
       "    <tr>\n",
       "      <th>X4</th>\n",
       "      <td>150.0</td>\n",
       "      <td>0.05</td>\n",
       "      <td>1.0</td>\n",
       "      <td>4.330127</td>\n",
       "      <td>151.0</td>\n",
       "      <td>2.546077</td>\n",
       "      <td>10000.0</td>\n",
       "      <td>10000.0</td>\n",
       "      <td>151.0</td>\n",
       "      <td>2.51</td>\n",
       "      <td>0.199076</td>\n",
       "      <td>0.842203</td>\n",
       "    </tr>\n",
       "    <tr>\n",
       "      <th>X5</th>\n",
       "      <td>620.0</td>\n",
       "      <td>0.01</td>\n",
       "      <td>1.0</td>\n",
       "      <td>3.579572</td>\n",
       "      <td>627.0</td>\n",
       "      <td>7.483177</td>\n",
       "      <td>10000.0</td>\n",
       "      <td>10000.0</td>\n",
       "      <td>627.0</td>\n",
       "      <td>7.27</td>\n",
       "      <td>0.843856</td>\n",
       "      <td>0.398750</td>\n",
       "    </tr>\n",
       "    <tr>\n",
       "      <th>X6</th>\n",
       "      <td>1500.0</td>\n",
       "      <td>0.01</td>\n",
       "      <td>10.0</td>\n",
       "      <td>8.660254</td>\n",
       "      <td>1510.0</td>\n",
       "      <td>25.460770</td>\n",
       "      <td>10000.0</td>\n",
       "      <td>1000.0</td>\n",
       "      <td>151.0</td>\n",
       "      <td>2.51</td>\n",
       "      <td>0.371840</td>\n",
       "      <td>0.710012</td>\n",
       "    </tr>\n",
       "    <tr>\n",
       "      <th>X7</th>\n",
       "      <td>750.0</td>\n",
       "      <td>0.05</td>\n",
       "      <td>1.0</td>\n",
       "      <td>21.650635</td>\n",
       "      <td>754.0</td>\n",
       "      <td>8.802257</td>\n",
       "      <td>10000.0</td>\n",
       "      <td>10000.0</td>\n",
       "      <td>754.0</td>\n",
       "      <td>8.54</td>\n",
       "      <td>0.171148</td>\n",
       "      <td>0.864107</td>\n",
       "    </tr>\n",
       "  </tbody>\n",
       "</table>\n",
       "</div>"
      ],
      "text/plain": [
       "           gegeven  rel_geg  R1/R3   fout_geg  berekend  fout_berekend  \\\n",
       "weerstand                                                                \n",
       "X1           390.0     0.01    1.0   2.251666     394.0       5.064137   \n",
       "X2          2400.0     0.01   10.0  13.856406    2410.0      34.774629   \n",
       "X3          2000.0     0.01   10.0  11.547005    2000.0      30.528675   \n",
       "X4           150.0     0.05    1.0   4.330127     151.0       2.546077   \n",
       "X5           620.0     0.01    1.0   3.579572     627.0       7.483177   \n",
       "X6          1500.0     0.01   10.0   8.660254    1510.0      25.460770   \n",
       "X7           750.0     0.05    1.0  21.650635     754.0       8.802257   \n",
       "\n",
       "               R_1      R_3    R_4  S_R4         X  p-waarde  \n",
       "weerstand                                                     \n",
       "X1         10000.0  10000.0  394.0  4.94  0.721741  0.470454  \n",
       "X2         10000.0   1000.0  241.0  3.41  0.267140  0.789362  \n",
       "X3         10000.0   1000.0  200.0  3.00  0.000000  1.000000  \n",
       "X4         10000.0  10000.0  151.0  2.51  0.199076  0.842203  \n",
       "X5         10000.0  10000.0  627.0  7.27  0.843856  0.398750  \n",
       "X6         10000.0   1000.0  151.0  2.51  0.371840  0.710012  \n",
       "X7         10000.0  10000.0  754.0  8.54  0.171148  0.864107  "
      ]
     },
     "execution_count": 6,
     "metadata": {},
     "output_type": "execute_result"
    }
   ],
   "source": [
    "header = {'weerstand' : namen, 'gegeven' : gegeven,'rel_geg' : rel_geg, 'R1/R3' : R1/R3, 'fout_geg' : fout_geg, 'berekend' : berekend, 'fout_berekend' : fout_berekend, 'R_1' : R1, 'R_3' : R3, 'R_4' : R4, 'S_R4' : S_R4, 'X' : X, 'p-waarde' : p_waarde}\n",
    "tabel = pd.DataFrame(header)\n",
    "tabel = tabel.set_index('weerstand')\n",
    "tabel"
   ]
  },
  {
   "cell_type": "code",
   "execution_count": 7,
   "metadata": {},
   "outputs": [
    {
     "data": {
      "text/html": [
       "<div>\n",
       "<style scoped>\n",
       "    .dataframe tbody tr th:only-of-type {\n",
       "        vertical-align: middle;\n",
       "    }\n",
       "\n",
       "    .dataframe tbody tr th {\n",
       "        vertical-align: top;\n",
       "    }\n",
       "\n",
       "    .dataframe thead th {\n",
       "        text-align: right;\n",
       "    }\n",
       "</style>\n",
       "<table border=\"1\" class=\"dataframe\">\n",
       "  <thead>\n",
       "    <tr style=\"text-align: right;\">\n",
       "      <th></th>\n",
       "      <th>R_4</th>\n",
       "      <th>S_R4</th>\n",
       "      <th>R1/R3</th>\n",
       "    </tr>\n",
       "    <tr>\n",
       "      <th>weerstand</th>\n",
       "      <th></th>\n",
       "      <th></th>\n",
       "      <th></th>\n",
       "    </tr>\n",
       "  </thead>\n",
       "  <tbody>\n",
       "    <tr>\n",
       "      <th>X1</th>\n",
       "      <td>394</td>\n",
       "      <td>4</td>\n",
       "      <td>1</td>\n",
       "    </tr>\n",
       "    <tr>\n",
       "      <th>X2</th>\n",
       "      <td>241</td>\n",
       "      <td>3</td>\n",
       "      <td>10</td>\n",
       "    </tr>\n",
       "    <tr>\n",
       "      <th>X3</th>\n",
       "      <td>200</td>\n",
       "      <td>3</td>\n",
       "      <td>10</td>\n",
       "    </tr>\n",
       "    <tr>\n",
       "      <th>X4</th>\n",
       "      <td>151</td>\n",
       "      <td>2</td>\n",
       "      <td>1</td>\n",
       "    </tr>\n",
       "    <tr>\n",
       "      <th>X5</th>\n",
       "      <td>627</td>\n",
       "      <td>7</td>\n",
       "      <td>1</td>\n",
       "    </tr>\n",
       "    <tr>\n",
       "      <th>X6</th>\n",
       "      <td>151</td>\n",
       "      <td>2</td>\n",
       "      <td>10</td>\n",
       "    </tr>\n",
       "    <tr>\n",
       "      <th>X7</th>\n",
       "      <td>754</td>\n",
       "      <td>8</td>\n",
       "      <td>1</td>\n",
       "    </tr>\n",
       "  </tbody>\n",
       "</table>\n",
       "</div>"
      ],
      "text/plain": [
       "           R_4  S_R4  R1/R3\n",
       "weerstand                  \n",
       "X1         394     4      1\n",
       "X2         241     3     10\n",
       "X3         200     3     10\n",
       "X4         151     2      1\n",
       "X5         627     7      1\n",
       "X6         151     2     10\n",
       "X7         754     8      1"
      ]
     },
     "metadata": {},
     "output_type": "display_data"
    },
    {
     "name": "stdout",
     "output_type": "stream",
     "text": [
      "\\begin{tabular}{lrrr}\n",
      "\\toprule\n",
      "{} &  R\\_4 &  S\\_R4 &  R1/R3 \\\\\n",
      "weerstand &      &       &        \\\\\n",
      "\\midrule\n",
      "X1        &  394 &     5 &      1 \\\\\n",
      "X2        &  241 &     3 &     10 \\\\\n",
      "X3        &  200 &     3 &     10 \\\\\n",
      "X4        &  151 &     3 &      1 \\\\\n",
      "X5        &  627 &     7 &      1 \\\\\n",
      "X6        &  151 &     3 &     10 \\\\\n",
      "X7        &  754 &     9 &      1 \\\\\n",
      "\\bottomrule\n",
      "\\end{tabular}\n",
      "\n"
     ]
    }
   ],
   "source": [
    "# tabel met gemeten waarden\n",
    "display(tabel[['R_4', 'S_R4', 'R1/R3']].astype(int))\n",
    "print(tabel[['R_4', 'S_R4', 'R1/R3']].round(0).astype(int).to_latex())"
   ]
  },
  {
   "cell_type": "code",
   "execution_count": 8,
   "metadata": {},
   "outputs": [
    {
     "data": {
      "text/html": [
       "<div>\n",
       "<style scoped>\n",
       "    .dataframe tbody tr th:only-of-type {\n",
       "        vertical-align: middle;\n",
       "    }\n",
       "\n",
       "    .dataframe tbody tr th {\n",
       "        vertical-align: top;\n",
       "    }\n",
       "\n",
       "    .dataframe thead th {\n",
       "        text-align: right;\n",
       "    }\n",
       "</style>\n",
       "<table border=\"1\" class=\"dataframe\">\n",
       "  <thead>\n",
       "    <tr style=\"text-align: right;\">\n",
       "      <th></th>\n",
       "      <th>gegeven</th>\n",
       "      <th>fout_geg</th>\n",
       "      <th>berekend</th>\n",
       "      <th>fout_berekend</th>\n",
       "    </tr>\n",
       "    <tr>\n",
       "      <th>weerstand</th>\n",
       "      <th></th>\n",
       "      <th></th>\n",
       "      <th></th>\n",
       "      <th></th>\n",
       "    </tr>\n",
       "  </thead>\n",
       "  <tbody>\n",
       "    <tr>\n",
       "      <th>X1</th>\n",
       "      <td>390</td>\n",
       "      <td>2</td>\n",
       "      <td>394</td>\n",
       "      <td>5</td>\n",
       "    </tr>\n",
       "    <tr>\n",
       "      <th>X2</th>\n",
       "      <td>2400</td>\n",
       "      <td>14</td>\n",
       "      <td>2410</td>\n",
       "      <td>35</td>\n",
       "    </tr>\n",
       "    <tr>\n",
       "      <th>X3</th>\n",
       "      <td>2000</td>\n",
       "      <td>12</td>\n",
       "      <td>2000</td>\n",
       "      <td>31</td>\n",
       "    </tr>\n",
       "    <tr>\n",
       "      <th>X4</th>\n",
       "      <td>150</td>\n",
       "      <td>4</td>\n",
       "      <td>151</td>\n",
       "      <td>3</td>\n",
       "    </tr>\n",
       "    <tr>\n",
       "      <th>X5</th>\n",
       "      <td>620</td>\n",
       "      <td>4</td>\n",
       "      <td>627</td>\n",
       "      <td>7</td>\n",
       "    </tr>\n",
       "    <tr>\n",
       "      <th>X6</th>\n",
       "      <td>1500</td>\n",
       "      <td>9</td>\n",
       "      <td>1510</td>\n",
       "      <td>25</td>\n",
       "    </tr>\n",
       "    <tr>\n",
       "      <th>X7</th>\n",
       "      <td>750</td>\n",
       "      <td>22</td>\n",
       "      <td>754</td>\n",
       "      <td>9</td>\n",
       "    </tr>\n",
       "  </tbody>\n",
       "</table>\n",
       "</div>"
      ],
      "text/plain": [
       "           gegeven  fout_geg  berekend  fout_berekend\n",
       "weerstand                                            \n",
       "X1             390         2       394              5\n",
       "X2            2400        14      2410             35\n",
       "X3            2000        12      2000             31\n",
       "X4             150         4       151              3\n",
       "X5             620         4       627              7\n",
       "X6            1500         9      1510             25\n",
       "X7             750        22       754              9"
      ]
     },
     "metadata": {},
     "output_type": "display_data"
    },
    {
     "name": "stdout",
     "output_type": "stream",
     "text": [
      "\\begin{tabular}{lrrrr}\n",
      "\\toprule\n",
      "{} &  gegeven &  fout\\_geg &  berekend &  fout\\_berekend \\\\\n",
      "weerstand &          &           &           &                \\\\\n",
      "\\midrule\n",
      "X1        &      390 &         2 &       394 &              5 \\\\\n",
      "X2        &     2400 &        14 &      2410 &             35 \\\\\n",
      "X3        &     2000 &        12 &      2000 &             31 \\\\\n",
      "X4        &      150 &         4 &       151 &              3 \\\\\n",
      "X5        &      620 &         4 &       627 &              7 \\\\\n",
      "X6        &     1500 &         9 &      1510 &             25 \\\\\n",
      "X7        &      750 &        22 &       754 &              9 \\\\\n",
      "\\bottomrule\n",
      "\\end{tabular}\n",
      "\n"
     ]
    }
   ],
   "source": [
    "# tabel om vermelde waarden op de weerstand te vergelijken met de berekende waarden uit de metingen\n",
    "display(tabel[['gegeven', 'fout_geg', 'berekend', 'fout_berekend']].round(0).astype(int))\n",
    "print(tabel[['gegeven', 'fout_geg', 'berekend', 'fout_berekend']].round(0).astype(int).to_latex())"
   ]
  },
  {
   "cell_type": "code",
   "execution_count": 9,
   "metadata": {},
   "outputs": [
    {
     "data": {
      "text/html": [
       "<div>\n",
       "<style scoped>\n",
       "    .dataframe tbody tr th:only-of-type {\n",
       "        vertical-align: middle;\n",
       "    }\n",
       "\n",
       "    .dataframe tbody tr th {\n",
       "        vertical-align: top;\n",
       "    }\n",
       "\n",
       "    .dataframe thead th {\n",
       "        text-align: right;\n",
       "    }\n",
       "</style>\n",
       "<table border=\"1\" class=\"dataframe\">\n",
       "  <thead>\n",
       "    <tr style=\"text-align: right;\">\n",
       "      <th></th>\n",
       "      <th>X</th>\n",
       "      <th>p-waarde</th>\n",
       "    </tr>\n",
       "    <tr>\n",
       "      <th>weerstand</th>\n",
       "      <th></th>\n",
       "      <th></th>\n",
       "    </tr>\n",
       "  </thead>\n",
       "  <tbody>\n",
       "    <tr>\n",
       "      <th>X1</th>\n",
       "      <td>0.72</td>\n",
       "      <td>0.47</td>\n",
       "    </tr>\n",
       "    <tr>\n",
       "      <th>X2</th>\n",
       "      <td>0.27</td>\n",
       "      <td>0.79</td>\n",
       "    </tr>\n",
       "    <tr>\n",
       "      <th>X3</th>\n",
       "      <td>0.00</td>\n",
       "      <td>1.00</td>\n",
       "    </tr>\n",
       "    <tr>\n",
       "      <th>X4</th>\n",
       "      <td>0.20</td>\n",
       "      <td>0.84</td>\n",
       "    </tr>\n",
       "    <tr>\n",
       "      <th>X5</th>\n",
       "      <td>0.84</td>\n",
       "      <td>0.40</td>\n",
       "    </tr>\n",
       "    <tr>\n",
       "      <th>X6</th>\n",
       "      <td>0.37</td>\n",
       "      <td>0.71</td>\n",
       "    </tr>\n",
       "    <tr>\n",
       "      <th>X7</th>\n",
       "      <td>0.17</td>\n",
       "      <td>0.86</td>\n",
       "    </tr>\n",
       "  </tbody>\n",
       "</table>\n",
       "</div>"
      ],
      "text/plain": [
       "              X  p-waarde\n",
       "weerstand                \n",
       "X1         0.72      0.47\n",
       "X2         0.27      0.79\n",
       "X3         0.00      1.00\n",
       "X4         0.20      0.84\n",
       "X5         0.84      0.40\n",
       "X6         0.37      0.71\n",
       "X7         0.17      0.86"
      ]
     },
     "metadata": {},
     "output_type": "display_data"
    },
    {
     "name": "stdout",
     "output_type": "stream",
     "text": [
      "\\begin{tabular}{lrr}\n",
      "\\toprule\n",
      "{} &     X &  p-waarde \\\\\n",
      "weerstand &       &           \\\\\n",
      "\\midrule\n",
      "X1        &  0.72 &      0.47 \\\\\n",
      "X2        &  0.27 &      0.79 \\\\\n",
      "X3        &  0.00 &      1.00 \\\\\n",
      "X4        &  0.20 &      0.84 \\\\\n",
      "X5        &  0.84 &      0.40 \\\\\n",
      "X6        &  0.37 &      0.71 \\\\\n",
      "X7        &  0.17 &      0.86 \\\\\n",
      "\\bottomrule\n",
      "\\end{tabular}\n",
      "\n"
     ]
    }
   ],
   "source": [
    "# tabel met de waarden van de hypothesetest\n",
    "display(tabel[['X', 'p-waarde']].round(2))\n",
    "print(tabel[['X', 'p-waarde']].round(2).to_latex())"
   ]
  },
  {
   "cell_type": "code",
   "execution_count": null,
   "metadata": {},
   "outputs": [],
   "source": []
  },
  {
   "cell_type": "code",
   "execution_count": 17,
   "metadata": {},
   "outputs": [
    {
     "name": "stdout",
     "output_type": "stream",
     "text": [
      "\\frac{\\sqrt{\\frac{R_{1}^{2} R_{4}^{2} S_{R3}^{2} + R_{3}^{2} \\left(R_{1}^{2} S_{R4}^{2} + R_{4}^{2} S_{R1}^{2}\\right)}{R_{3}^{4}}}}{R_{4}}\n"
     ]
    }
   ],
   "source": [
    "print(sp.latex(sp.simplify(S_R2/r4)))"
   ]
  },
  {
   "cell_type": "code",
   "execution_count": 19,
   "metadata": {},
   "outputs": [
    {
     "data": {
      "image/png": "[encoded data removed]",
      "text/latex": [
       "$$\\frac{\\sqrt{\\frac{R_{1}^{2} R_{4}^{2} S_{R3}^{2} + R_{3}^{2} \\left(R_{1}^{2} S_{R4}^{2} + R_{4}^{2} S_{R1}^{2}\\right)}{R_{3}^{4}}}}{R_{4}}$$"
      ],
      "text/plain": [
       "      _____________________________________________\n",
       "     ╱   2   2     2     2 ⎛  2     2     2     2⎞ \n",
       "    ╱  R₁ ⋅R₄ ⋅S_R3  + R₃ ⋅⎝R₁ ⋅S_R4  + R₄ ⋅S_R1 ⎠ \n",
       "   ╱   ─────────────────────────────────────────── \n",
       "  ╱                          4                     \n",
       "╲╱                         R₃                      \n",
       "───────────────────────────────────────────────────\n",
       "                         R₄                        "
      ]
     },
     "execution_count": 19,
     "metadata": {},
     "output_type": "execute_result"
    }
   ],
   "source": [
    "sp.simplify(S_R2/r4)"
   ]
  }
 ],
 "metadata": {
  "kernelspec": {
   "display_name": "Python 3",
   "language": "python",
   "name": "python3"
  },
  "language_info": {
   "codemirror_mode": {
    "name": "ipython",
    "version": 3
   },
   "file_extension": ".py",
   "mimetype": "text/x-python",
   "name": "python",
   "nbconvert_exporter": "python",
   "pygments_lexer": "ipython3",
   "version": "3.6.5"
  }
 },
 "nbformat": 4,
 "nbformat_minor": 2
}
